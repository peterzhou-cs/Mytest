{
  "cells": [
    {
      "cell_type": "markdown",
      "metadata": {
        "id": "omu2uGYDJYkf"
      },
      "source": [
        "# Distributions"
      ]
    },
    {
      "cell_type": "markdown",
      "metadata": {
        "tags": [],
        "id": "W6ff9TrVJYkg"
      },
      "source": [
        "[Click here to run this notebook on Colab](https://colab.research.google.com/github/AllenDowney/ElementsOfDataScience/blob/master/08_distributions.ipynb) or\n",
        "[click here to download it](https://github.com/AllenDowney/ElementsOfDataScience/raw/master/08_distributions.ipynb)."
      ]
    },
    {
      "cell_type": "markdown",
      "metadata": {
        "id": "2PI6Ud0nJYkh"
      },
      "source": [
        "In this chapter we'll see three ways to describe a set of values:\n",
        "\n",
        "* A probability mass function (PMF), which represents a set of values and the number of times each one appears in a dataset.\n",
        "\n",
        "* A cumulative distribution function (CDF), which contains the same information as a PMF in a form that makes it easier to visualize, make comparisons, and perform some computations.\n",
        "\n",
        "* A kernel density estimate (KDE), which is like a smooth, continuous version of a histogram.\n",
        "\n",
        "For examples, we'll use data from the General Social Survey (GSS) to look at distributions of age and income, and to explore the relationship between income and education.\n",
        "\n",
        "But we'll start with one of the most important ideas in statistics, the distribution."
      ]
    },
    {
      "cell_type": "markdown",
      "metadata": {
        "id": "NMBo8dl3JYkh"
      },
      "source": [
        "## Distributions\n",
        "\n",
        "A distribution is a set of values and their corresponding probabilities.  For example, if you roll a six-sided die, there are six possible outcomes, the numbers `1` through `6`, and they all have the same probability, `1/6`.\n",
        "\n",
        "We can represent this distribution of outcomes with a table, like this:\n",
        "\n",
        "\n",
        "| Value   |      Probability |\n",
        "| -----   | -----    |\n",
        "| 1       |      1/6 |\n",
        "| 2       |      1/6 |\n",
        "| 3       |      1/6 |\n",
        "| 4       |      1/6 |\n",
        "| 5       |      1/6 |\n",
        "| 6       |      1/6 |\n",
        "\n",
        "More generally, a distribution can have any number of values, the values can be any type, and the probabilities do not have to be equal.\n",
        "\n",
        "To represent distributions in Python, we will use a library called `empiricaldist`, for \"empirical distribution\", where \"empirical\" means it is based on data rather than a mathematical formula."
      ]
    },
    {
      "cell_type": "markdown",
      "metadata": {
        "tags": [],
        "id": "uBALLbnyJYki"
      },
      "source": [
        "The following cell checks whether `empiricaldist` is installed and installs it if necessary."
      ]
    },
    {
      "cell_type": "code",
      "execution_count": 2,
      "metadata": {
        "tags": [],
        "id": "F5DCOmM3JYkj"
      },
      "outputs": [],
      "source": [
        "try:\n",
        "    import empiricaldist\n",
        "except ImportError:\n",
        "    !pip install empiricaldist"
      ]
    },
    {
      "cell_type": "markdown",
      "metadata": {
        "id": "mJ5uXlESJYkk"
      },
      "source": [
        "`empiricaldist` provides an object called `Pmf`, which stands for \"probability mass function\".\n",
        "A `Pmf` object contains a set of possible outcomes and their probabilities.\n",
        "\n",
        "For example, here's a `Pmf` that represents the outcome of rolling a six-sided die:"
      ]
    },
    {
      "cell_type": "code",
      "execution_count": 3,
      "metadata": {
        "id": "LIVx7BC8JYkk"
      },
      "outputs": [],
      "source": [
        "from empiricaldist import Pmf\n",
        "\n",
        "outcomes = [1,2,3,4,5,6]\n",
        "die = Pmf(1/6, outcomes)"
      ]
    },
    {
      "cell_type": "markdown",
      "metadata": {
        "id": "8YyPJqMFJYkl"
      },
      "source": [
        "The first argument is the probability of each outcome; the second argument is the list of outcomes.\n",
        "We can display the result like this."
      ]
    },
    {
      "cell_type": "code",
      "execution_count": 4,
      "metadata": {
        "id": "wME3UTgTJYkl",
        "outputId": "6adadc7a-8560-42f9-8a89-bf0cdeb21a1c",
        "colab": {
          "base_uri": "https://localhost:8080/",
          "height": 272
        }
      },
      "outputs": [
        {
          "output_type": "execute_result",
          "data": {
            "text/plain": [
              "1    0.166667\n",
              "2    0.166667\n",
              "3    0.166667\n",
              "4    0.166667\n",
              "5    0.166667\n",
              "6    0.166667\n",
              "dtype: float64"
            ],
            "text/html": [
              "<div>\n",
              "<style scoped>\n",
              "    .dataframe tbody tr th:only-of-type {\n",
              "        vertical-align: middle;\n",
              "    }\n",
              "\n",
              "    .dataframe tbody tr th {\n",
              "        vertical-align: top;\n",
              "    }\n",
              "\n",
              "    .dataframe thead th {\n",
              "        text-align: right;\n",
              "    }\n",
              "</style>\n",
              "<table border=\"1\" class=\"dataframe\">\n",
              "  <thead>\n",
              "    <tr style=\"text-align: right;\">\n",
              "      <th></th>\n",
              "      <th>0</th>\n",
              "    </tr>\n",
              "  </thead>\n",
              "  <tbody>\n",
              "    <tr>\n",
              "      <th>1</th>\n",
              "      <td>0.166667</td>\n",
              "    </tr>\n",
              "    <tr>\n",
              "      <th>2</th>\n",
              "      <td>0.166667</td>\n",
              "    </tr>\n",
              "    <tr>\n",
              "      <th>3</th>\n",
              "      <td>0.166667</td>\n",
              "    </tr>\n",
              "    <tr>\n",
              "      <th>4</th>\n",
              "      <td>0.166667</td>\n",
              "    </tr>\n",
              "    <tr>\n",
              "      <th>5</th>\n",
              "      <td>0.166667</td>\n",
              "    </tr>\n",
              "    <tr>\n",
              "      <th>6</th>\n",
              "      <td>0.166667</td>\n",
              "    </tr>\n",
              "  </tbody>\n",
              "</table>\n",
              "</div><br><label><b>dtype:</b> float64</label>"
            ]
          },
          "metadata": {},
          "execution_count": 4
        }
      ],
      "source": [
        "die"
      ]
    },
    {
      "cell_type": "markdown",
      "metadata": {
        "id": "iJ6r5MIyJYkl"
      },
      "source": [
        "A `Pmf` object is a specialized version of a Pandas `Series`, so it provides all of the attributes and methods of a `Series`, plus some additional methods we'll see soon."
      ]
    },
    {
      "cell_type": "markdown",
      "metadata": {
        "id": "RVcznO1IJYkm"
      },
      "source": [
        "## The General Social Survey\n",
        "\n",
        "Now we'll use `Pmf` objects to represent distributions of values from a new dataset, the General Social Survey (GSS).\n",
        "The GSS surveys a representative sample of adult residents of the U.S. and asks questions about demographics, personal history, and beliefs about social and political issues.\n",
        "It is widely used by politicians, policy makers, and researchers.\n",
        "\n",
        "The GSS dataset contains hundreds of columns; using an online tool call [GSS Explorer](https://gssdataexplorer.norc.org/) I've selected just a few and created a subset of the data, called an **extract**.\n",
        "\n",
        "Like the NSFG data we used in the previous chapter, the GSS data is stored in a fixed-width format, described by a Stata data dictionary."
      ]
    },
    {
      "cell_type": "code",
      "execution_count": 5,
      "metadata": {
        "id": "c47t5AcUJYkm"
      },
      "outputs": [],
      "source": [
        "dict_file = 'GSS.dct'\n",
        "data_file = 'GSS.dat.gz'"
      ]
    },
    {
      "cell_type": "markdown",
      "metadata": {
        "tags": [],
        "id": "VBbtIfeQJYkm"
      },
      "source": [
        "The following cells download the data extract."
      ]
    },
    {
      "cell_type": "code",
      "execution_count": 6,
      "metadata": {
        "tags": [],
        "id": "KyLJ7_7GJYkm"
      },
      "outputs": [],
      "source": [
        "from os.path import basename, exists\n",
        "\n",
        "def download(url):\n",
        "    filename = basename(url)\n",
        "    if not exists(filename):\n",
        "        from urllib.request import urlretrieve\n",
        "        local, _ = urlretrieve(url, filename)\n",
        "        print('Downloaded ' + local)"
      ]
    },
    {
      "cell_type": "code",
      "execution_count": 7,
      "metadata": {
        "tags": [],
        "id": "cH-_eq75JYkm",
        "outputId": "054771ab-2f6c-4b96-9044-b0be6472d26d",
        "colab": {
          "base_uri": "https://localhost:8080/"
        }
      },
      "outputs": [
        {
          "output_type": "stream",
          "name": "stdout",
          "text": [
            "Downloaded GSS.dct\n"
          ]
        }
      ],
      "source": [
        "download('https://github.com/AllenDowney/' +\n",
        "         'ElementsOfDataScience/raw/master/data/' +\n",
        "         dict_file)"
      ]
    },
    {
      "cell_type": "code",
      "execution_count": 8,
      "metadata": {
        "tags": [],
        "id": "ki5fNLKwJYkm",
        "outputId": "2e6802cd-f256-412e-c177-abdbd8ca77e6",
        "colab": {
          "base_uri": "https://localhost:8080/"
        }
      },
      "outputs": [
        {
          "output_type": "stream",
          "name": "stdout",
          "text": [
            "Downloaded GSS.dat.gz\n"
          ]
        }
      ],
      "source": [
        "download('https://github.com/AllenDowney/' +\n",
        "         'ElementsOfDataScience/raw/master/data/' +\n",
        "         data_file)"
      ]
    },
    {
      "cell_type": "markdown",
      "metadata": {
        "id": "Pid13Po9JYkn"
      },
      "source": [
        "We will use the `statadict` library to read the data dictionary."
      ]
    },
    {
      "cell_type": "markdown",
      "metadata": {
        "tags": [],
        "id": "gm4MPEbjJYkn"
      },
      "source": [
        "The following cell checks whether you have `statadict` installed and installs it if necessary."
      ]
    },
    {
      "cell_type": "code",
      "execution_count": 11,
      "metadata": {
        "tags": [],
        "id": "hX8g_eUiJYkn"
      },
      "outputs": [],
      "source": [
        "try:\n",
        "    from statadict import parse_stata_dict\n",
        "except ImportError:\n",
        "    !pip install statadict"
      ]
    },
    {
      "cell_type": "code",
      "execution_count": 12,
      "metadata": {
        "id": "pnbAwt-pJYkn"
      },
      "outputs": [],
      "source": [
        "from statadict import parse_stata_dict\n",
        "\n",
        "stata_dict = parse_stata_dict(dict_file)"
      ]
    },
    {
      "cell_type": "markdown",
      "metadata": {
        "id": "GQGBXgtsJYkn"
      },
      "source": [
        "The data file is compressed, but we can use the `gzip` library to open it."
      ]
    },
    {
      "cell_type": "code",
      "execution_count": 13,
      "metadata": {
        "id": "oTo-BjTPJYkn"
      },
      "outputs": [],
      "source": [
        "import gzip\n",
        "\n",
        "fp = gzip.open(data_file)"
      ]
    },
    {
      "cell_type": "markdown",
      "metadata": {
        "id": "ypA90JbfJYkn"
      },
      "source": [
        "The result is an object that behaves like a file, so we can pass it as an argument to `read_fwf`, which reads a fixed-width file, as we saw in the previous chapter:"
      ]
    },
    {
      "cell_type": "code",
      "execution_count": 14,
      "metadata": {
        "id": "FHQF9JZUJYkn",
        "outputId": "f4c4494c-54f6-412f-ecb2-f7c10501b100",
        "colab": {
          "base_uri": "https://localhost:8080/"
        }
      },
      "outputs": [
        {
          "output_type": "execute_result",
          "data": {
            "text/plain": [
              "(64814, 8)"
            ]
          },
          "metadata": {},
          "execution_count": 14
        }
      ],
      "source": [
        "import pandas as pd\n",
        "\n",
        "gss = pd.read_fwf(fp,\n",
        "                  names=stata_dict.names,\n",
        "                  colspecs=stata_dict.colspecs)\n",
        "gss.shape"
      ]
    },
    {
      "cell_type": "markdown",
      "metadata": {
        "id": "WYO7LXw9JYkn"
      },
      "source": [
        "The result is a `DataFrame` with one row for each respondent, and one column for each variable.\n",
        "Here are the first few rows."
      ]
    },
    {
      "cell_type": "code",
      "execution_count": 15,
      "metadata": {
        "id": "amy0WjA6JYkn",
        "outputId": "d14c5c89-96b5-4515-98ac-8c812316b684",
        "colab": {
          "base_uri": "https://localhost:8080/",
          "height": 206
        }
      },
      "outputs": [
        {
          "output_type": "execute_result",
          "data": {
            "text/plain": [
              "   YEAR  ID_  AGE  EDUC  SEX  GUNLAW  GRASS  REALINC\n",
              "0  1972    1   23    16    2       1      0  18951.0\n",
              "1  1972    2   70    10    1       1      0  24366.0\n",
              "2  1972    3   48    12    2       1      0  24366.0\n",
              "3  1972    4   27    17    2       1      0  30458.0\n",
              "4  1972    5   61    12    2       1      0  50763.0"
            ],
            "text/html": [
              "\n",
              "  <div id=\"df-2df2b651-c8d1-4a7b-915c-36022741ee71\" class=\"colab-df-container\">\n",
              "    <div>\n",
              "<style scoped>\n",
              "    .dataframe tbody tr th:only-of-type {\n",
              "        vertical-align: middle;\n",
              "    }\n",
              "\n",
              "    .dataframe tbody tr th {\n",
              "        vertical-align: top;\n",
              "    }\n",
              "\n",
              "    .dataframe thead th {\n",
              "        text-align: right;\n",
              "    }\n",
              "</style>\n",
              "<table border=\"1\" class=\"dataframe\">\n",
              "  <thead>\n",
              "    <tr style=\"text-align: right;\">\n",
              "      <th></th>\n",
              "      <th>YEAR</th>\n",
              "      <th>ID_</th>\n",
              "      <th>AGE</th>\n",
              "      <th>EDUC</th>\n",
              "      <th>SEX</th>\n",
              "      <th>GUNLAW</th>\n",
              "      <th>GRASS</th>\n",
              "      <th>REALINC</th>\n",
              "    </tr>\n",
              "  </thead>\n",
              "  <tbody>\n",
              "    <tr>\n",
              "      <th>0</th>\n",
              "      <td>1972</td>\n",
              "      <td>1</td>\n",
              "      <td>23</td>\n",
              "      <td>16</td>\n",
              "      <td>2</td>\n",
              "      <td>1</td>\n",
              "      <td>0</td>\n",
              "      <td>18951.0</td>\n",
              "    </tr>\n",
              "    <tr>\n",
              "      <th>1</th>\n",
              "      <td>1972</td>\n",
              "      <td>2</td>\n",
              "      <td>70</td>\n",
              "      <td>10</td>\n",
              "      <td>1</td>\n",
              "      <td>1</td>\n",
              "      <td>0</td>\n",
              "      <td>24366.0</td>\n",
              "    </tr>\n",
              "    <tr>\n",
              "      <th>2</th>\n",
              "      <td>1972</td>\n",
              "      <td>3</td>\n",
              "      <td>48</td>\n",
              "      <td>12</td>\n",
              "      <td>2</td>\n",
              "      <td>1</td>\n",
              "      <td>0</td>\n",
              "      <td>24366.0</td>\n",
              "    </tr>\n",
              "    <tr>\n",
              "      <th>3</th>\n",
              "      <td>1972</td>\n",
              "      <td>4</td>\n",
              "      <td>27</td>\n",
              "      <td>17</td>\n",
              "      <td>2</td>\n",
              "      <td>1</td>\n",
              "      <td>0</td>\n",
              "      <td>30458.0</td>\n",
              "    </tr>\n",
              "    <tr>\n",
              "      <th>4</th>\n",
              "      <td>1972</td>\n",
              "      <td>5</td>\n",
              "      <td>61</td>\n",
              "      <td>12</td>\n",
              "      <td>2</td>\n",
              "      <td>1</td>\n",
              "      <td>0</td>\n",
              "      <td>50763.0</td>\n",
              "    </tr>\n",
              "  </tbody>\n",
              "</table>\n",
              "</div>\n",
              "    <div class=\"colab-df-buttons\">\n",
              "\n",
              "  <div class=\"colab-df-container\">\n",
              "    <button class=\"colab-df-convert\" onclick=\"convertToInteractive('df-2df2b651-c8d1-4a7b-915c-36022741ee71')\"\n",
              "            title=\"Convert this dataframe to an interactive table.\"\n",
              "            style=\"display:none;\">\n",
              "\n",
              "  <svg xmlns=\"http://www.w3.org/2000/svg\" height=\"24px\" viewBox=\"0 -960 960 960\">\n",
              "    <path d=\"M120-120v-720h720v720H120Zm60-500h600v-160H180v160Zm220 220h160v-160H400v160Zm0 220h160v-160H400v160ZM180-400h160v-160H180v160Zm440 0h160v-160H620v160ZM180-180h160v-160H180v160Zm440 0h160v-160H620v160Z\"/>\n",
              "  </svg>\n",
              "    </button>\n",
              "\n",
              "  <style>\n",
              "    .colab-df-container {\n",
              "      display:flex;\n",
              "      gap: 12px;\n",
              "    }\n",
              "\n",
              "    .colab-df-convert {\n",
              "      background-color: #E8F0FE;\n",
              "      border: none;\n",
              "      border-radius: 50%;\n",
              "      cursor: pointer;\n",
              "      display: none;\n",
              "      fill: #1967D2;\n",
              "      height: 32px;\n",
              "      padding: 0 0 0 0;\n",
              "      width: 32px;\n",
              "    }\n",
              "\n",
              "    .colab-df-convert:hover {\n",
              "      background-color: #E2EBFA;\n",
              "      box-shadow: 0px 1px 2px rgba(60, 64, 67, 0.3), 0px 1px 3px 1px rgba(60, 64, 67, 0.15);\n",
              "      fill: #174EA6;\n",
              "    }\n",
              "\n",
              "    .colab-df-buttons div {\n",
              "      margin-bottom: 4px;\n",
              "    }\n",
              "\n",
              "    [theme=dark] .colab-df-convert {\n",
              "      background-color: #3B4455;\n",
              "      fill: #D2E3FC;\n",
              "    }\n",
              "\n",
              "    [theme=dark] .colab-df-convert:hover {\n",
              "      background-color: #434B5C;\n",
              "      box-shadow: 0px 1px 3px 1px rgba(0, 0, 0, 0.15);\n",
              "      filter: drop-shadow(0px 1px 2px rgba(0, 0, 0, 0.3));\n",
              "      fill: #FFFFFF;\n",
              "    }\n",
              "  </style>\n",
              "\n",
              "    <script>\n",
              "      const buttonEl =\n",
              "        document.querySelector('#df-2df2b651-c8d1-4a7b-915c-36022741ee71 button.colab-df-convert');\n",
              "      buttonEl.style.display =\n",
              "        google.colab.kernel.accessAllowed ? 'block' : 'none';\n",
              "\n",
              "      async function convertToInteractive(key) {\n",
              "        const element = document.querySelector('#df-2df2b651-c8d1-4a7b-915c-36022741ee71');\n",
              "        const dataTable =\n",
              "          await google.colab.kernel.invokeFunction('convertToInteractive',\n",
              "                                                    [key], {});\n",
              "        if (!dataTable) return;\n",
              "\n",
              "        const docLinkHtml = 'Like what you see? Visit the ' +\n",
              "          '<a target=\"_blank\" href=https://colab.research.google.com/notebooks/data_table.ipynb>data table notebook</a>'\n",
              "          + ' to learn more about interactive tables.';\n",
              "        element.innerHTML = '';\n",
              "        dataTable['output_type'] = 'display_data';\n",
              "        await google.colab.output.renderOutput(dataTable, element);\n",
              "        const docLink = document.createElement('div');\n",
              "        docLink.innerHTML = docLinkHtml;\n",
              "        element.appendChild(docLink);\n",
              "      }\n",
              "    </script>\n",
              "  </div>\n",
              "\n",
              "\n",
              "<div id=\"df-4bdec382-7b3b-4b5f-a633-a3d9b34b9efc\">\n",
              "  <button class=\"colab-df-quickchart\" onclick=\"quickchart('df-4bdec382-7b3b-4b5f-a633-a3d9b34b9efc')\"\n",
              "            title=\"Suggest charts\"\n",
              "            style=\"display:none;\">\n",
              "\n",
              "<svg xmlns=\"http://www.w3.org/2000/svg\" height=\"24px\"viewBox=\"0 0 24 24\"\n",
              "     width=\"24px\">\n",
              "    <g>\n",
              "        <path d=\"M19 3H5c-1.1 0-2 .9-2 2v14c0 1.1.9 2 2 2h14c1.1 0 2-.9 2-2V5c0-1.1-.9-2-2-2zM9 17H7v-7h2v7zm4 0h-2V7h2v10zm4 0h-2v-4h2v4z\"/>\n",
              "    </g>\n",
              "</svg>\n",
              "  </button>\n",
              "\n",
              "<style>\n",
              "  .colab-df-quickchart {\n",
              "      --bg-color: #E8F0FE;\n",
              "      --fill-color: #1967D2;\n",
              "      --hover-bg-color: #E2EBFA;\n",
              "      --hover-fill-color: #174EA6;\n",
              "      --disabled-fill-color: #AAA;\n",
              "      --disabled-bg-color: #DDD;\n",
              "  }\n",
              "\n",
              "  [theme=dark] .colab-df-quickchart {\n",
              "      --bg-color: #3B4455;\n",
              "      --fill-color: #D2E3FC;\n",
              "      --hover-bg-color: #434B5C;\n",
              "      --hover-fill-color: #FFFFFF;\n",
              "      --disabled-bg-color: #3B4455;\n",
              "      --disabled-fill-color: #666;\n",
              "  }\n",
              "\n",
              "  .colab-df-quickchart {\n",
              "    background-color: var(--bg-color);\n",
              "    border: none;\n",
              "    border-radius: 50%;\n",
              "    cursor: pointer;\n",
              "    display: none;\n",
              "    fill: var(--fill-color);\n",
              "    height: 32px;\n",
              "    padding: 0;\n",
              "    width: 32px;\n",
              "  }\n",
              "\n",
              "  .colab-df-quickchart:hover {\n",
              "    background-color: var(--hover-bg-color);\n",
              "    box-shadow: 0 1px 2px rgba(60, 64, 67, 0.3), 0 1px 3px 1px rgba(60, 64, 67, 0.15);\n",
              "    fill: var(--button-hover-fill-color);\n",
              "  }\n",
              "\n",
              "  .colab-df-quickchart-complete:disabled,\n",
              "  .colab-df-quickchart-complete:disabled:hover {\n",
              "    background-color: var(--disabled-bg-color);\n",
              "    fill: var(--disabled-fill-color);\n",
              "    box-shadow: none;\n",
              "  }\n",
              "\n",
              "  .colab-df-spinner {\n",
              "    border: 2px solid var(--fill-color);\n",
              "    border-color: transparent;\n",
              "    border-bottom-color: var(--fill-color);\n",
              "    animation:\n",
              "      spin 1s steps(1) infinite;\n",
              "  }\n",
              "\n",
              "  @keyframes spin {\n",
              "    0% {\n",
              "      border-color: transparent;\n",
              "      border-bottom-color: var(--fill-color);\n",
              "      border-left-color: var(--fill-color);\n",
              "    }\n",
              "    20% {\n",
              "      border-color: transparent;\n",
              "      border-left-color: var(--fill-color);\n",
              "      border-top-color: var(--fill-color);\n",
              "    }\n",
              "    30% {\n",
              "      border-color: transparent;\n",
              "      border-left-color: var(--fill-color);\n",
              "      border-top-color: var(--fill-color);\n",
              "      border-right-color: var(--fill-color);\n",
              "    }\n",
              "    40% {\n",
              "      border-color: transparent;\n",
              "      border-right-color: var(--fill-color);\n",
              "      border-top-color: var(--fill-color);\n",
              "    }\n",
              "    60% {\n",
              "      border-color: transparent;\n",
              "      border-right-color: var(--fill-color);\n",
              "    }\n",
              "    80% {\n",
              "      border-color: transparent;\n",
              "      border-right-color: var(--fill-color);\n",
              "      border-bottom-color: var(--fill-color);\n",
              "    }\n",
              "    90% {\n",
              "      border-color: transparent;\n",
              "      border-bottom-color: var(--fill-color);\n",
              "    }\n",
              "  }\n",
              "</style>\n",
              "\n",
              "  <script>\n",
              "    async function quickchart(key) {\n",
              "      const quickchartButtonEl =\n",
              "        document.querySelector('#' + key + ' button');\n",
              "      quickchartButtonEl.disabled = true;  // To prevent multiple clicks.\n",
              "      quickchartButtonEl.classList.add('colab-df-spinner');\n",
              "      try {\n",
              "        const charts = await google.colab.kernel.invokeFunction(\n",
              "            'suggestCharts', [key], {});\n",
              "      } catch (error) {\n",
              "        console.error('Error during call to suggestCharts:', error);\n",
              "      }\n",
              "      quickchartButtonEl.classList.remove('colab-df-spinner');\n",
              "      quickchartButtonEl.classList.add('colab-df-quickchart-complete');\n",
              "    }\n",
              "    (() => {\n",
              "      let quickchartButtonEl =\n",
              "        document.querySelector('#df-4bdec382-7b3b-4b5f-a633-a3d9b34b9efc button');\n",
              "      quickchartButtonEl.style.display =\n",
              "        google.colab.kernel.accessAllowed ? 'block' : 'none';\n",
              "    })();\n",
              "  </script>\n",
              "</div>\n",
              "\n",
              "    </div>\n",
              "  </div>\n"
            ],
            "application/vnd.google.colaboratory.intrinsic+json": {
              "type": "dataframe",
              "variable_name": "gss",
              "summary": "{\n  \"name\": \"gss\",\n  \"rows\": 64814,\n  \"fields\": [\n    {\n      \"column\": \"YEAR\",\n      \"properties\": {\n        \"dtype\": \"number\",\n        \"std\": 13,\n        \"min\": 1972,\n        \"max\": 2018,\n        \"num_unique_values\": 32,\n        \"samples\": [\n          2014,\n          1989,\n          2004\n        ],\n        \"semantic_type\": \"\",\n        \"description\": \"\"\n      }\n    },\n    {\n      \"column\": \"ID_\",\n      \"properties\": {\n        \"dtype\": \"number\",\n        \"std\": 828,\n        \"min\": 1,\n        \"max\": 4510,\n        \"num_unique_values\": 4510,\n        \"samples\": [\n          3035,\n          545,\n          158\n        ],\n        \"semantic_type\": \"\",\n        \"description\": \"\"\n      }\n    },\n    {\n      \"column\": \"AGE\",\n      \"properties\": {\n        \"dtype\": \"number\",\n        \"std\": 17,\n        \"min\": 18,\n        \"max\": 99,\n        \"num_unique_values\": 74,\n        \"samples\": [\n          61,\n          66,\n          71\n        ],\n        \"semantic_type\": \"\",\n        \"description\": \"\"\n      }\n    },\n    {\n      \"column\": \"EDUC\",\n      \"properties\": {\n        \"dtype\": \"number\",\n        \"std\": 5,\n        \"min\": 0,\n        \"max\": 99,\n        \"num_unique_values\": 23,\n        \"samples\": [\n          2,\n          11,\n          16\n        ],\n        \"semantic_type\": \"\",\n        \"description\": \"\"\n      }\n    },\n    {\n      \"column\": \"SEX\",\n      \"properties\": {\n        \"dtype\": \"number\",\n        \"std\": 0,\n        \"min\": 1,\n        \"max\": 2,\n        \"num_unique_values\": 2,\n        \"samples\": [\n          1,\n          2\n        ],\n        \"semantic_type\": \"\",\n        \"description\": \"\"\n      }\n    },\n    {\n      \"column\": \"GUNLAW\",\n      \"properties\": {\n        \"dtype\": \"number\",\n        \"std\": 1,\n        \"min\": 0,\n        \"max\": 9,\n        \"num_unique_values\": 5,\n        \"samples\": [\n          2,\n          0\n        ],\n        \"semantic_type\": \"\",\n        \"description\": \"\"\n      }\n    },\n    {\n      \"column\": \"GRASS\",\n      \"properties\": {\n        \"dtype\": \"number\",\n        \"std\": 1,\n        \"min\": 0,\n        \"max\": 9,\n        \"num_unique_values\": 5,\n        \"samples\": [\n          2,\n          9\n        ],\n        \"semantic_type\": \"\",\n        \"description\": \"\"\n      }\n    },\n    {\n      \"column\": \"REALINC\",\n      \"properties\": {\n        \"dtype\": \"number\",\n        \"std\": 29584.666171462242,\n        \"min\": 0.0,\n        \"max\": 162607.0,\n        \"num_unique_values\": 624,\n        \"samples\": [\n          3924.7,\n          2409.75\n        ],\n        \"semantic_type\": \"\",\n        \"description\": \"\"\n      }\n    }\n  ]\n}"
            }
          },
          "metadata": {},
          "execution_count": 15
        }
      ],
      "source": [
        "gss.head()"
      ]
    },
    {
      "cell_type": "markdown",
      "metadata": {
        "id": "XmaT1_cdJYko"
      },
      "source": [
        "I'll explain these variables as we go along, but if you want more information, you can read the online documentation at <https://gssdataexplorer.norc.org/variables/vfilter>."
      ]
    },
    {
      "cell_type": "markdown",
      "metadata": {
        "id": "CQFpdc0BJYko"
      },
      "source": [
        "## Distribution of Education\n",
        "\n",
        "To get started with this dataset, let's look at the distribution of `EDUC`, which records the number of years of education for each respondent.  First we'll select a column from the `DataFrame` and use `value_counts` to see what values are in it."
      ]
    },
    {
      "cell_type": "code",
      "execution_count": 16,
      "metadata": {
        "id": "oQnv-4YxJYko",
        "outputId": "a6260015-e105-4400-e3b0-e4e3c3b704aa",
        "colab": {
          "base_uri": "https://localhost:8080/",
          "height": 836
        }
      },
      "outputs": [
        {
          "output_type": "execute_result",
          "data": {
            "text/plain": [
              "EDUC\n",
              "0       165\n",
              "1        47\n",
              "2       152\n",
              "3       257\n",
              "4       319\n",
              "5       402\n",
              "6       828\n",
              "7       879\n",
              "8      2724\n",
              "9      2083\n",
              "10     2880\n",
              "11     3743\n",
              "12    19663\n",
              "13     5360\n",
              "14     7160\n",
              "15     2910\n",
              "16     8355\n",
              "17     1967\n",
              "18     2384\n",
              "19      920\n",
              "20     1439\n",
              "98       73\n",
              "99      104\n",
              "Name: count, dtype: int64"
            ],
            "text/html": [
              "<div>\n",
              "<style scoped>\n",
              "    .dataframe tbody tr th:only-of-type {\n",
              "        vertical-align: middle;\n",
              "    }\n",
              "\n",
              "    .dataframe tbody tr th {\n",
              "        vertical-align: top;\n",
              "    }\n",
              "\n",
              "    .dataframe thead th {\n",
              "        text-align: right;\n",
              "    }\n",
              "</style>\n",
              "<table border=\"1\" class=\"dataframe\">\n",
              "  <thead>\n",
              "    <tr style=\"text-align: right;\">\n",
              "      <th></th>\n",
              "      <th>count</th>\n",
              "    </tr>\n",
              "    <tr>\n",
              "      <th>EDUC</th>\n",
              "      <th></th>\n",
              "    </tr>\n",
              "  </thead>\n",
              "  <tbody>\n",
              "    <tr>\n",
              "      <th>0</th>\n",
              "      <td>165</td>\n",
              "    </tr>\n",
              "    <tr>\n",
              "      <th>1</th>\n",
              "      <td>47</td>\n",
              "    </tr>\n",
              "    <tr>\n",
              "      <th>2</th>\n",
              "      <td>152</td>\n",
              "    </tr>\n",
              "    <tr>\n",
              "      <th>3</th>\n",
              "      <td>257</td>\n",
              "    </tr>\n",
              "    <tr>\n",
              "      <th>4</th>\n",
              "      <td>319</td>\n",
              "    </tr>\n",
              "    <tr>\n",
              "      <th>5</th>\n",
              "      <td>402</td>\n",
              "    </tr>\n",
              "    <tr>\n",
              "      <th>6</th>\n",
              "      <td>828</td>\n",
              "    </tr>\n",
              "    <tr>\n",
              "      <th>7</th>\n",
              "      <td>879</td>\n",
              "    </tr>\n",
              "    <tr>\n",
              "      <th>8</th>\n",
              "      <td>2724</td>\n",
              "    </tr>\n",
              "    <tr>\n",
              "      <th>9</th>\n",
              "      <td>2083</td>\n",
              "    </tr>\n",
              "    <tr>\n",
              "      <th>10</th>\n",
              "      <td>2880</td>\n",
              "    </tr>\n",
              "    <tr>\n",
              "      <th>11</th>\n",
              "      <td>3743</td>\n",
              "    </tr>\n",
              "    <tr>\n",
              "      <th>12</th>\n",
              "      <td>19663</td>\n",
              "    </tr>\n",
              "    <tr>\n",
              "      <th>13</th>\n",
              "      <td>5360</td>\n",
              "    </tr>\n",
              "    <tr>\n",
              "      <th>14</th>\n",
              "      <td>7160</td>\n",
              "    </tr>\n",
              "    <tr>\n",
              "      <th>15</th>\n",
              "      <td>2910</td>\n",
              "    </tr>\n",
              "    <tr>\n",
              "      <th>16</th>\n",
              "      <td>8355</td>\n",
              "    </tr>\n",
              "    <tr>\n",
              "      <th>17</th>\n",
              "      <td>1967</td>\n",
              "    </tr>\n",
              "    <tr>\n",
              "      <th>18</th>\n",
              "      <td>2384</td>\n",
              "    </tr>\n",
              "    <tr>\n",
              "      <th>19</th>\n",
              "      <td>920</td>\n",
              "    </tr>\n",
              "    <tr>\n",
              "      <th>20</th>\n",
              "      <td>1439</td>\n",
              "    </tr>\n",
              "    <tr>\n",
              "      <th>98</th>\n",
              "      <td>73</td>\n",
              "    </tr>\n",
              "    <tr>\n",
              "      <th>99</th>\n",
              "      <td>104</td>\n",
              "    </tr>\n",
              "  </tbody>\n",
              "</table>\n",
              "</div><br><label><b>dtype:</b> int64</label>"
            ]
          },
          "metadata": {},
          "execution_count": 16
        }
      ],
      "source": [
        "gss['EDUC'].value_counts().sort_index()"
      ]
    },
    {
      "cell_type": "markdown",
      "metadata": {
        "id": "gfnaXqfdJYko"
      },
      "source": [
        "The result from `value_counts` is a set of possible values and the number of times each one appears, so it is a kind of distribution.\n",
        "\n",
        "The values `98` and `99` are special codes for \"Don't know\" and \"No answer\".\n",
        "We'll use `replace` to replace these codes with `NaN`."
      ]
    },
    {
      "cell_type": "code",
      "execution_count": 17,
      "metadata": {
        "id": "ChiFXIcmJYko"
      },
      "outputs": [],
      "source": [
        "import numpy as np\n",
        "\n",
        "educ = gss['EDUC'].replace([98, 99], np.nan)"
      ]
    },
    {
      "cell_type": "markdown",
      "metadata": {
        "id": "TO5Ajir3JYko"
      },
      "source": [
        "We've already seen one way to visualize a distribution, a histogram.  Here's the histogram of education level."
      ]
    },
    {
      "cell_type": "code",
      "execution_count": 18,
      "metadata": {
        "id": "gtDbuyx5JYko",
        "outputId": "3b6734e6-0164-4c1a-fcf4-c7f7bdc85caf",
        "colab": {
          "base_uri": "https://localhost:8080/",
          "height": 472
        }
      },
      "outputs": [
        {
          "output_type": "display_data",
          "data": {
            "text/plain": [
              "<Figure size 640x480 with 1 Axes>"
            ],
            "image/png": "[encoded data removed]"
          },
          "metadata": {}
        }
      ],
      "source": [
        "import matplotlib.pyplot as plt\n",
        "\n",
        "educ.hist(grid=False)\n",
        "plt.xlabel('Years of education')\n",
        "plt.ylabel('Number of respondents')\n",
        "plt.title('Histogram of education level');"
      ]
    },
    {
      "cell_type": "markdown",
      "metadata": {
        "id": "vkjnXCuzJYko"
      },
      "source": [
        "Based on the histogram, we can see the general shape of the distribution and the central tendency -- it looks like the peak is near 12 years of education.\n",
        "But a histogram is not the best way to visualize this distribution because it obscures some important details.\n",
        "\n",
        "An alternative is to use a `Pmf`.\n",
        "The function `Pmf.from_seq` takes any kind of sequence -- like a list, tuple, or Pandas `Series` -- and computes the distribution of the values in the sequence."
      ]
    },
    {
      "cell_type": "code",
      "execution_count": 19,
      "metadata": {
        "id": "McrPPyXRJYko",
        "outputId": "65cc0034-beef-4d0a-8118-ffe864c2d3c0",
        "colab": {
          "base_uri": "https://localhost:8080/",
          "height": 121
        }
      },
      "outputs": [
        {
          "output_type": "execute_result",
          "data": {
            "text/plain": [
              "empiricaldist.empiricaldist.Pmf"
            ],
            "text/html": [
              "<div style=\"max-width:800px; border: 1px solid var(--colab-border-color);\"><style>\n",
              "      pre.function-repr-contents {\n",
              "        overflow-x: auto;\n",
              "        padding: 8px 12px;\n",
              "        max-height: 500px;\n",
              "      }\n",
              "\n",
              "      pre.function-repr-contents.function-repr-contents-collapsed {\n",
              "        cursor: pointer;\n",
              "        max-height: 100px;\n",
              "      }\n",
              "    </style>\n",
              "    <pre style=\"white-space: initial; background:\n",
              "         var(--colab-secondary-surface-color); padding: 8px 12px;\n",
              "         border-bottom: 1px solid var(--colab-border-color);\"><b>empiricaldist.empiricaldist.Pmf</b><br/>def __call__(qs)</pre><pre class=\"function-repr-contents function-repr-contents-collapsed\" style=\"\"><a class=\"filepath\" style=\"display:none\" href=\"#\">/usr/local/lib/python3.11/dist-packages/empiricaldist/empiricaldist.py</a>Represents a probability Mass Function (PMF).</pre>\n",
              "      <script>\n",
              "      if (google.colab.kernel.accessAllowed && google.colab.files && google.colab.files.view) {\n",
              "        for (const element of document.querySelectorAll('.filepath')) {\n",
              "          element.style.display = 'block'\n",
              "          element.onclick = (event) => {\n",
              "            event.preventDefault();\n",
              "            event.stopPropagation();\n",
              "            google.colab.files.view(element.textContent, 395);\n",
              "          };\n",
              "        }\n",
              "      }\n",
              "      for (const element of document.querySelectorAll('.function-repr-contents')) {\n",
              "        element.onclick = (event) => {\n",
              "          event.preventDefault();\n",
              "          event.stopPropagation();\n",
              "          element.classList.toggle('function-repr-contents-collapsed');\n",
              "        };\n",
              "      }\n",
              "      </script>\n",
              "      </div>"
            ]
          },
          "metadata": {},
          "execution_count": 19
        }
      ],
      "source": [
        "pmf_educ = Pmf.from_seq(educ, normalize=False)\n",
        "type(pmf_educ)"
      ]
    },
    {
      "cell_type": "markdown",
      "metadata": {
        "id": "VtpI77bZJYko"
      },
      "source": [
        "The keyword argument `normalize=False` indicates that we don't want to normalize this PMF.  I'll explain what that means soon.\n",
        "\n",
        "Here's what the first few rows look like."
      ]
    },
    {
      "cell_type": "code",
      "execution_count": 20,
      "metadata": {
        "id": "wasXZb-qJYko",
        "outputId": "6488dbd9-6d23-47c6-910e-b56c731c6ff6",
        "colab": {
          "base_uri": "https://localhost:8080/",
          "height": 192
        }
      },
      "outputs": [
        {
          "output_type": "execute_result",
          "data": {
            "text/plain": [
              "EDUC\n",
              "0.0    165\n",
              "1.0     47\n",
              "2.0    152\n",
              "Name: , dtype: int64"
            ],
            "text/html": [
              "<div>\n",
              "<style scoped>\n",
              "    .dataframe tbody tr th:only-of-type {\n",
              "        vertical-align: middle;\n",
              "    }\n",
              "\n",
              "    .dataframe tbody tr th {\n",
              "        vertical-align: top;\n",
              "    }\n",
              "\n",
              "    .dataframe thead th {\n",
              "        text-align: right;\n",
              "    }\n",
              "</style>\n",
              "<table border=\"1\" class=\"dataframe\">\n",
              "  <thead>\n",
              "    <tr style=\"text-align: right;\">\n",
              "      <th></th>\n",
              "      <th></th>\n",
              "    </tr>\n",
              "    <tr>\n",
              "      <th>EDUC</th>\n",
              "      <th></th>\n",
              "    </tr>\n",
              "  </thead>\n",
              "  <tbody>\n",
              "    <tr>\n",
              "      <th>0.0</th>\n",
              "      <td>165</td>\n",
              "    </tr>\n",
              "    <tr>\n",
              "      <th>1.0</th>\n",
              "      <td>47</td>\n",
              "    </tr>\n",
              "    <tr>\n",
              "      <th>2.0</th>\n",
              "      <td>152</td>\n",
              "    </tr>\n",
              "  </tbody>\n",
              "</table>\n",
              "</div><br><label><b>dtype:</b> int64</label>"
            ]
          },
          "metadata": {},
          "execution_count": 20
        }
      ],
      "source": [
        "pmf_educ.head()"
      ]
    },
    {
      "cell_type": "markdown",
      "metadata": {
        "id": "XYsP7-xxJYko"
      },
      "source": [
        "In this dataset, there are `165` respondents who report that they have had no formal education, and `47` who have only one year.\n",
        "Here the last few rows."
      ]
    },
    {
      "cell_type": "code",
      "execution_count": 21,
      "metadata": {
        "id": "HlX4qcnlJYkx",
        "outputId": "5ced53a9-e5b9-4380-e6de-f7595cda9af3",
        "colab": {
          "base_uri": "https://localhost:8080/",
          "height": 192
        }
      },
      "outputs": [
        {
          "output_type": "execute_result",
          "data": {
            "text/plain": [
              "EDUC\n",
              "18.0    2384\n",
              "19.0     920\n",
              "20.0    1439\n",
              "Name: , dtype: int64"
            ],
            "text/html": [
              "<div>\n",
              "<style scoped>\n",
              "    .dataframe tbody tr th:only-of-type {\n",
              "        vertical-align: middle;\n",
              "    }\n",
              "\n",
              "    .dataframe tbody tr th {\n",
              "        vertical-align: top;\n",
              "    }\n",
              "\n",
              "    .dataframe thead th {\n",
              "        text-align: right;\n",
              "    }\n",
              "</style>\n",
              "<table border=\"1\" class=\"dataframe\">\n",
              "  <thead>\n",
              "    <tr style=\"text-align: right;\">\n",
              "      <th></th>\n",
              "      <th></th>\n",
              "    </tr>\n",
              "    <tr>\n",
              "      <th>EDUC</th>\n",
              "      <th></th>\n",
              "    </tr>\n",
              "  </thead>\n",
              "  <tbody>\n",
              "    <tr>\n",
              "      <th>18.0</th>\n",
              "      <td>2384</td>\n",
              "    </tr>\n",
              "    <tr>\n",
              "      <th>19.0</th>\n",
              "      <td>920</td>\n",
              "    </tr>\n",
              "    <tr>\n",
              "      <th>20.0</th>\n",
              "      <td>1439</td>\n",
              "    </tr>\n",
              "  </tbody>\n",
              "</table>\n",
              "</div><br><label><b>dtype:</b> int64</label>"
            ]
          },
          "metadata": {},
          "execution_count": 21
        }
      ],
      "source": [
        "pmf_educ.tail()"
      ]
    },
    {
      "cell_type": "markdown",
      "metadata": {
        "id": "6OYVjx4pJYkx"
      },
      "source": [
        "There are `1439` respondents who report that they have 20 or more years of formal education, which probably means they attended college and graduate school.\n",
        "\n",
        "You can use the bracket operator to look up a value in a `Pmf` and get the corresponding count:"
      ]
    },
    {
      "cell_type": "code",
      "execution_count": 22,
      "metadata": {
        "id": "1AkbdcvdJYkx",
        "outputId": "9414c5a4-49d9-4d72-e535-f44aecc551e6",
        "colab": {
          "base_uri": "https://localhost:8080/"
        }
      },
      "outputs": [
        {
          "output_type": "execute_result",
          "data": {
            "text/plain": [
              "np.int64(1439)"
            ]
          },
          "metadata": {},
          "execution_count": 22
        }
      ],
      "source": [
        "pmf_educ[20]"
      ]
    },
    {
      "cell_type": "markdown",
      "metadata": {
        "id": "ZWrrp2-tJYky"
      },
      "source": [
        "Usually when we make a PMF, we want to know the *fraction* of respondents with each value, rather than the counts.  We can do that by setting `normalize=True`; then we get a **normalized** PMF, that is, a PMF where the values in the second column add up to 1."
      ]
    },
    {
      "cell_type": "code",
      "execution_count": 23,
      "metadata": {
        "id": "e8mYSQUUJYky",
        "outputId": "6fcbc57f-40a8-40fa-fa39-6c8821dfac4d",
        "colab": {
          "base_uri": "https://localhost:8080/",
          "height": 192
        }
      },
      "outputs": [
        {
          "output_type": "execute_result",
          "data": {
            "text/plain": [
              "EDUC\n",
              "0.0    0.002553\n",
              "1.0    0.000727\n",
              "2.0    0.002352\n",
              "Name: , dtype: float64"
            ],
            "text/html": [
              "<div>\n",
              "<style scoped>\n",
              "    .dataframe tbody tr th:only-of-type {\n",
              "        vertical-align: middle;\n",
              "    }\n",
              "\n",
              "    .dataframe tbody tr th {\n",
              "        vertical-align: top;\n",
              "    }\n",
              "\n",
              "    .dataframe thead th {\n",
              "        text-align: right;\n",
              "    }\n",
              "</style>\n",
              "<table border=\"1\" class=\"dataframe\">\n",
              "  <thead>\n",
              "    <tr style=\"text-align: right;\">\n",
              "      <th></th>\n",
              "      <th></th>\n",
              "    </tr>\n",
              "    <tr>\n",
              "      <th>EDUC</th>\n",
              "      <th></th>\n",
              "    </tr>\n",
              "  </thead>\n",
              "  <tbody>\n",
              "    <tr>\n",
              "      <th>0.0</th>\n",
              "      <td>0.002553</td>\n",
              "    </tr>\n",
              "    <tr>\n",
              "      <th>1.0</th>\n",
              "      <td>0.000727</td>\n",
              "    </tr>\n",
              "    <tr>\n",
              "      <th>2.0</th>\n",
              "      <td>0.002352</td>\n",
              "    </tr>\n",
              "  </tbody>\n",
              "</table>\n",
              "</div><br><label><b>dtype:</b> float64</label>"
            ]
          },
          "metadata": {},
          "execution_count": 23
        }
      ],
      "source": [
        "pmf_educ_norm = Pmf.from_seq(educ, normalize=True)\n",
        "pmf_educ_norm.head()"
      ]
    },
    {
      "cell_type": "markdown",
      "metadata": {
        "id": "93exSpgkJYky"
      },
      "source": [
        "Now if we use the bracket operator to look up a value, the result is a fraction rather than a count.\n",
        "For example, the fraction of people with 12 years of education is about 30%:"
      ]
    },
    {
      "cell_type": "code",
      "execution_count": 24,
      "metadata": {
        "id": "Jhu5H0NpJYky",
        "outputId": "5daa0e82-ee39-475e-8947-90f3940e4171",
        "colab": {
          "base_uri": "https://localhost:8080/"
        }
      },
      "outputs": [
        {
          "output_type": "execute_result",
          "data": {
            "text/plain": [
              "np.float64(0.30420656899299164)"
            ]
          },
          "metadata": {},
          "execution_count": 24
        }
      ],
      "source": [
        "pmf_educ_norm[12]"
      ]
    },
    {
      "cell_type": "markdown",
      "metadata": {
        "id": "aXkWSsT_JYky"
      },
      "source": [
        "`Pmf` provides a `bar` method that plots the values and their probabilities as a bar chart."
      ]
    },
    {
      "cell_type": "code",
      "execution_count": 25,
      "metadata": {
        "id": "JxKMZwqtJYky",
        "outputId": "cd660459-7ee8-43b1-b3db-760a2e105c2d",
        "colab": {
          "base_uri": "https://localhost:8080/",
          "height": 472
        }
      },
      "outputs": [
        {
          "output_type": "display_data",
          "data": {
            "text/plain": [
              "<Figure size 640x480 with 1 Axes>"
            ],
            "image/png": "[encoded data removed]"
          },
          "metadata": {}
        }
      ],
      "source": [
        "pmf_educ_norm.bar(label='EDUC')\n",
        "\n",
        "plt.xlabel('Years of education')\n",
        "plt.xticks(range(0, 21, 4))\n",
        "plt.ylabel('PMF')\n",
        "plt.title('Distribution of years of education')\n",
        "plt.legend();"
      ]
    },
    {
      "cell_type": "markdown",
      "metadata": {
        "id": "bCBVmoTMJYky"
      },
      "source": [
        "In this figure, we can see that the most common value is 12 years, but there are also peaks at 14 and 16, which correspond to two and four years of college.\n",
        "\n",
        "For this data, the PMF is probably a better choice than the histogram.  The PMF shows all unique values, so we can see where the peaks are.\n",
        "Because the histogram puts values into bins, it obscures these details.  With this dataset, and the default number of bins, we couldn't see the peaks at 14 and 16 years.\n",
        "But PMFs have limitations, too, as we'll see.\n",
        "\n",
        "First, here's an exercise where you can practice with PMFs."
      ]
    },
    {
      "cell_type": "markdown",
      "metadata": {
        "id": "42y2mI2bJYky"
      },
      "source": [
        "**Exercise:** Let's look at the `YEAR` column in the `DataFrame`, which represents the year each respondent was interviewed.\n",
        "\n",
        "Make an unnormalized `Pmf` for `YEAR` and display the result.\n",
        "How many respondents were interviewed in 2018?"
      ]
    },
    {
      "cell_type": "code",
      "execution_count": 29,
      "metadata": {
        "id": "mrunWB3fJYk1",
        "outputId": "ab4bf83b-eaf8-477e-830c-ad408863fd7b",
        "colab": {
          "base_uri": "https://localhost:8080/",
          "height": 1000
        }
      },
      "outputs": [
        {
          "output_type": "execute_result",
          "data": {
            "text/plain": [
              "YEAR\n",
              "1972    1613\n",
              "1973    1504\n",
              "1974    1484\n",
              "1975    1490\n",
              "1976    1499\n",
              "1977    1530\n",
              "1978    1532\n",
              "1980    1468\n",
              "1982    1860\n",
              "1983    1599\n",
              "1984    1473\n",
              "1985    1534\n",
              "1986    1470\n",
              "1987    1819\n",
              "1988    1481\n",
              "1989    1537\n",
              "1990    1372\n",
              "1991    1517\n",
              "1993    1606\n",
              "1994    2992\n",
              "1996    2904\n",
              "1998    2832\n",
              "2000    2817\n",
              "2002    2765\n",
              "2004    2812\n",
              "2006    4510\n",
              "2008    2023\n",
              "2010    2044\n",
              "2012    1974\n",
              "2014    2538\n",
              "2016    2867\n",
              "2018    2348\n",
              "Name: , dtype: int64"
            ],
            "text/html": [
              "<div>\n",
              "<style scoped>\n",
              "    .dataframe tbody tr th:only-of-type {\n",
              "        vertical-align: middle;\n",
              "    }\n",
              "\n",
              "    .dataframe tbody tr th {\n",
              "        vertical-align: top;\n",
              "    }\n",
              "\n",
              "    .dataframe thead th {\n",
              "        text-align: right;\n",
              "    }\n",
              "</style>\n",
              "<table border=\"1\" class=\"dataframe\">\n",
              "  <thead>\n",
              "    <tr style=\"text-align: right;\">\n",
              "      <th></th>\n",
              "      <th></th>\n",
              "    </tr>\n",
              "    <tr>\n",
              "      <th>YEAR</th>\n",
              "      <th></th>\n",
              "    </tr>\n",
              "  </thead>\n",
              "  <tbody>\n",
              "    <tr>\n",
              "      <th>1972</th>\n",
              "      <td>1613</td>\n",
              "    </tr>\n",
              "    <tr>\n",
              "      <th>1973</th>\n",
              "      <td>1504</td>\n",
              "    </tr>\n",
              "    <tr>\n",
              "      <th>1974</th>\n",
              "      <td>1484</td>\n",
              "    </tr>\n",
              "    <tr>\n",
              "      <th>1975</th>\n",
              "      <td>1490</td>\n",
              "    </tr>\n",
              "    <tr>\n",
              "      <th>1976</th>\n",
              "      <td>1499</td>\n",
              "    </tr>\n",
              "    <tr>\n",
              "      <th>1977</th>\n",
              "      <td>1530</td>\n",
              "    </tr>\n",
              "    <tr>\n",
              "      <th>1978</th>\n",
              "      <td>1532</td>\n",
              "    </tr>\n",
              "    <tr>\n",
              "      <th>1980</th>\n",
              "      <td>1468</td>\n",
              "    </tr>\n",
              "    <tr>\n",
              "      <th>1982</th>\n",
              "      <td>1860</td>\n",
              "    </tr>\n",
              "    <tr>\n",
              "      <th>1983</th>\n",
              "      <td>1599</td>\n",
              "    </tr>\n",
              "    <tr>\n",
              "      <th>1984</th>\n",
              "      <td>1473</td>\n",
              "    </tr>\n",
              "    <tr>\n",
              "      <th>1985</th>\n",
              "      <td>1534</td>\n",
              "    </tr>\n",
              "    <tr>\n",
              "      <th>1986</th>\n",
              "      <td>1470</td>\n",
              "    </tr>\n",
              "    <tr>\n",
              "      <th>1987</th>\n",
              "      <td>1819</td>\n",
              "    </tr>\n",
              "    <tr>\n",
              "      <th>1988</th>\n",
              "      <td>1481</td>\n",
              "    </tr>\n",
              "    <tr>\n",
              "      <th>1989</th>\n",
              "      <td>1537</td>\n",
              "    </tr>\n",
              "    <tr>\n",
              "      <th>1990</th>\n",
              "      <td>1372</td>\n",
              "    </tr>\n",
              "    <tr>\n",
              "      <th>1991</th>\n",
              "      <td>1517</td>\n",
              "    </tr>\n",
              "    <tr>\n",
              "      <th>1993</th>\n",
              "      <td>1606</td>\n",
              "    </tr>\n",
              "    <tr>\n",
              "      <th>1994</th>\n",
              "      <td>2992</td>\n",
              "    </tr>\n",
              "    <tr>\n",
              "      <th>1996</th>\n",
              "      <td>2904</td>\n",
              "    </tr>\n",
              "    <tr>\n",
              "      <th>1998</th>\n",
              "      <td>2832</td>\n",
              "    </tr>\n",
              "    <tr>\n",
              "      <th>2000</th>\n",
              "      <td>2817</td>\n",
              "    </tr>\n",
              "    <tr>\n",
              "      <th>2002</th>\n",
              "      <td>2765</td>\n",
              "    </tr>\n",
              "    <tr>\n",
              "      <th>2004</th>\n",
              "      <td>2812</td>\n",
              "    </tr>\n",
              "    <tr>\n",
              "      <th>2006</th>\n",
              "      <td>4510</td>\n",
              "    </tr>\n",
              "    <tr>\n",
              "      <th>2008</th>\n",
              "      <td>2023</td>\n",
              "    </tr>\n",
              "    <tr>\n",
              "      <th>2010</th>\n",
              "      <td>2044</td>\n",
              "    </tr>\n",
              "    <tr>\n",
              "      <th>2012</th>\n",
              "      <td>1974</td>\n",
              "    </tr>\n",
              "    <tr>\n",
              "      <th>2014</th>\n",
              "      <td>2538</td>\n",
              "    </tr>\n",
              "    <tr>\n",
              "      <th>2016</th>\n",
              "      <td>2867</td>\n",
              "    </tr>\n",
              "    <tr>\n",
              "      <th>2018</th>\n",
              "      <td>2348</td>\n",
              "    </tr>\n",
              "  </tbody>\n",
              "</table>\n",
              "</div><br><label><b>dtype:</b> int64</label>"
            ]
          },
          "metadata": {},
          "execution_count": 29
        }
      ],
      "source": [
        "# Solution goes here\n",
        "YEAR = gss['YEAR']\n",
        "pmf_year = Pmf.from_seq(YEAR, normalize=False)\n",
        "pmf_year\n",
        "#YEAR2018 = 2348"
      ]
    },
    {
      "cell_type": "markdown",
      "metadata": {
        "id": "4lQ9_bjUJYk2"
      },
      "source": [
        "## Cumulative Distribution Functions\n",
        "\n",
        "Now we'll see another way to represent a distribution, the cumulative distribution function (CDF).\n",
        "`empiricaldist` provides a `Cdf` object that represents a CDF.\n",
        "We can import it like this:"
      ]
    },
    {
      "cell_type": "code",
      "execution_count": 30,
      "metadata": {
        "id": "7IsEAtBHJYk2"
      },
      "outputs": [],
      "source": [
        "from empiricaldist import Cdf"
      ]
    },
    {
      "cell_type": "markdown",
      "metadata": {
        "id": "pH4NGbIHJYk2"
      },
      "source": [
        "As an example, suppose we have a sequence of five values:"
      ]
    },
    {
      "cell_type": "code",
      "execution_count": 31,
      "metadata": {
        "id": "-1tbOSJ8JYk2"
      },
      "outputs": [],
      "source": [
        "values = 1, 2, 2, 3, 5"
      ]
    },
    {
      "cell_type": "markdown",
      "metadata": {
        "id": "C3RSjZ_nJYk2"
      },
      "source": [
        "Here's the `Pmf` of these values."
      ]
    },
    {
      "cell_type": "code",
      "execution_count": 32,
      "metadata": {
        "id": "4q8wBOVDJYk2",
        "outputId": "b44edf1f-b0e4-4732-f6fc-f4125a3932a5",
        "colab": {
          "base_uri": "https://localhost:8080/",
          "height": 192
        }
      },
      "outputs": [
        {
          "output_type": "execute_result",
          "data": {
            "text/plain": [
              "1    0.2\n",
              "2    0.4\n",
              "3    0.2\n",
              "5    0.2\n",
              "Name: , dtype: float64"
            ],
            "text/html": [
              "<div>\n",
              "<style scoped>\n",
              "    .dataframe tbody tr th:only-of-type {\n",
              "        vertical-align: middle;\n",
              "    }\n",
              "\n",
              "    .dataframe tbody tr th {\n",
              "        vertical-align: top;\n",
              "    }\n",
              "\n",
              "    .dataframe thead th {\n",
              "        text-align: right;\n",
              "    }\n",
              "</style>\n",
              "<table border=\"1\" class=\"dataframe\">\n",
              "  <thead>\n",
              "    <tr style=\"text-align: right;\">\n",
              "      <th></th>\n",
              "      <th></th>\n",
              "    </tr>\n",
              "  </thead>\n",
              "  <tbody>\n",
              "    <tr>\n",
              "      <th>1</th>\n",
              "      <td>0.2</td>\n",
              "    </tr>\n",
              "    <tr>\n",
              "      <th>2</th>\n",
              "      <td>0.4</td>\n",
              "    </tr>\n",
              "    <tr>\n",
              "      <th>3</th>\n",
              "      <td>0.2</td>\n",
              "    </tr>\n",
              "    <tr>\n",
              "      <th>5</th>\n",
              "      <td>0.2</td>\n",
              "    </tr>\n",
              "  </tbody>\n",
              "</table>\n",
              "</div><br><label><b>dtype:</b> float64</label>"
            ]
          },
          "metadata": {},
          "execution_count": 32
        }
      ],
      "source": [
        "Pmf.from_seq(values)"
      ]
    },
    {
      "cell_type": "markdown",
      "metadata": {
        "id": "XeE5Cy40JYk2"
      },
      "source": [
        "If you draw a random value from `values`, the `Pmf` tells you the chance of getting `x`, for any value of `x`.\n",
        "So the probability of the value `1` is `1/5`; the probability of the value `2` is `2/5`; and the probabilities for `3` and `5` are `1/5` each."
      ]
    },
    {
      "cell_type": "markdown",
      "metadata": {
        "id": "X_L94UbDJYk2"
      },
      "source": [
        "A CDF is similar to a PMF in the sense that it contains values and their probabilities; the difference is that the probabilities in the CDF are the cumulative sum of the probabilities in the PMF.\n",
        "\n",
        "Here's a `Cdf` object for the same five values."
      ]
    },
    {
      "cell_type": "code",
      "execution_count": 33,
      "metadata": {
        "id": "HiHZUG-gJYk3",
        "outputId": "ab4ab9dd-8c21-496f-8304-3c471d2833af",
        "colab": {
          "base_uri": "https://localhost:8080/",
          "height": 192
        }
      },
      "outputs": [
        {
          "output_type": "execute_result",
          "data": {
            "text/plain": [
              "1    0.2\n",
              "2    0.6\n",
              "3    0.8\n",
              "5    1.0\n",
              "Name: , dtype: float64"
            ],
            "text/html": [
              "<div>\n",
              "<style scoped>\n",
              "    .dataframe tbody tr th:only-of-type {\n",
              "        vertical-align: middle;\n",
              "    }\n",
              "\n",
              "    .dataframe tbody tr th {\n",
              "        vertical-align: top;\n",
              "    }\n",
              "\n",
              "    .dataframe thead th {\n",
              "        text-align: right;\n",
              "    }\n",
              "</style>\n",
              "<table border=\"1\" class=\"dataframe\">\n",
              "  <thead>\n",
              "    <tr style=\"text-align: right;\">\n",
              "      <th></th>\n",
              "      <th></th>\n",
              "    </tr>\n",
              "  </thead>\n",
              "  <tbody>\n",
              "    <tr>\n",
              "      <th>1</th>\n",
              "      <td>0.2</td>\n",
              "    </tr>\n",
              "    <tr>\n",
              "      <th>2</th>\n",
              "      <td>0.6</td>\n",
              "    </tr>\n",
              "    <tr>\n",
              "      <th>3</th>\n",
              "      <td>0.8</td>\n",
              "    </tr>\n",
              "    <tr>\n",
              "      <th>5</th>\n",
              "      <td>1.0</td>\n",
              "    </tr>\n",
              "  </tbody>\n",
              "</table>\n",
              "</div><br><label><b>dtype:</b> float64</label>"
            ]
          },
          "metadata": {},
          "execution_count": 33
        }
      ],
      "source": [
        "Cdf.from_seq(values)"
      ]
    },
    {
      "cell_type": "markdown",
      "metadata": {
        "id": "PrZldEh1JYk3"
      },
      "source": [
        "If you draw a random value from `values`, `Cdf` tells you the chance of getting a value *less than or equal to* `x`, for any given `x`.\n",
        "\n",
        "So the `Cdf` of `1` is `1/5` because one of the five values in the sequence is less than or equal to 1.\n",
        "\n",
        "The `Cdf` of 2 is `3/5` because three of the five values are less than or equal to 2.\n",
        "\n",
        "And the `Cdf` of 5 is `5/5` because all of the values are less than or equal to 5."
      ]
    },
    {
      "cell_type": "markdown",
      "metadata": {
        "id": "_y_bLVxyJYk3"
      },
      "source": [
        "## CDF of Age\n",
        "\n",
        "Now let's look at a more substantial `Cdf`, the distribution of ages for respondents in the General Social Survey.\n",
        "\n",
        "The variable we'll use is `'AGE'`.\n",
        "According to the codebook, the range of the values is from `18` to `89`, where `89` means \"89 or older\".\n",
        "The special codes `98` and `99` mean \"Don't know\" and \"Didn't answer\".\n",
        "See <https://gssdataexplorer.norc.org/variables/53/vshow>.\n",
        "\n",
        "We can use `replace` to replace the special codes with `NaN`."
      ]
    },
    {
      "cell_type": "code",
      "execution_count": 34,
      "metadata": {
        "id": "ZdQ0KrUKJYk3"
      },
      "outputs": [],
      "source": [
        "age = gss['AGE'].replace([98, 99], np.nan)"
      ]
    },
    {
      "cell_type": "markdown",
      "metadata": {
        "id": "C1bbwkP6JYk3"
      },
      "source": [
        "We can compute the `Cdf` of these values like this:"
      ]
    },
    {
      "cell_type": "code",
      "execution_count": 35,
      "metadata": {
        "id": "jmMOf__6JYk3"
      },
      "outputs": [],
      "source": [
        "cdf_age = Cdf.from_seq(age)"
      ]
    },
    {
      "cell_type": "markdown",
      "metadata": {
        "id": "aEhDheDNJYk3"
      },
      "source": [
        "`Cdf` provides a method called `plot` that plots the CDF as a line.  Here's what it looks like."
      ]
    },
    {
      "cell_type": "code",
      "execution_count": 36,
      "metadata": {
        "id": "MwaWuM6_JYk3",
        "outputId": "7948a8bf-3bf0-4e84-b6a2-867de83f9632",
        "colab": {
          "base_uri": "https://localhost:8080/",
          "height": 472
        }
      },
      "outputs": [
        {
          "output_type": "display_data",
          "data": {
            "text/plain": [
              "<Figure size 640x480 with 1 Axes>"
            ],
            "image/png": "[encoded data removed]"
          },
          "metadata": {}
        }
      ],
      "source": [
        "cdf_age.plot()\n",
        "\n",
        "plt.xlabel('Age (years)')\n",
        "plt.ylabel('CDF')\n",
        "plt.title('Distribution of age');"
      ]
    },
    {
      "cell_type": "markdown",
      "metadata": {
        "id": "LcJ5w4ghJYk3"
      },
      "source": [
        "The $x$-axis is the ages, from 18 to 89.  The $y$-axis is the cumulative probabilities, from 0 to 1.\n",
        "\n",
        "`cdf_age` can be used as a function, so if you give it an age, it returns the corresponding probability (in a NumPy array)."
      ]
    },
    {
      "cell_type": "code",
      "execution_count": 37,
      "metadata": {
        "id": "EszlL-gfJYk3",
        "outputId": "834eb8e5-4b7e-4960-d9c6-ca833ae05c47",
        "colab": {
          "base_uri": "https://localhost:8080/"
        }
      },
      "outputs": [
        {
          "output_type": "execute_result",
          "data": {
            "text/plain": [
              "array(0.63318676)"
            ]
          },
          "metadata": {},
          "execution_count": 37
        }
      ],
      "source": [
        "q = 51\n",
        "p = cdf_age(q)\n",
        "p"
      ]
    },
    {
      "cell_type": "markdown",
      "metadata": {
        "id": "wOUnIZGDJYk3"
      },
      "source": [
        "`q` stands for \"quantity\", which is what we are looking up.  `p` stands for probability, which is the result.\n",
        "In this example, the quantity is age 51, and the corresponding probability is about `0.63`.\n",
        "That means that about 63% of the respondents are 51 years old or younger.\n",
        "\n",
        "The arrow in the following figure shows how you could read this value from the CDF, at least approximately."
      ]
    },
    {
      "cell_type": "code",
      "execution_count": 38,
      "metadata": {
        "tags": [],
        "id": "jd2EabvaJYk3"
      },
      "outputs": [],
      "source": [
        "def draw_line(p, q, x):\n",
        "    xs = [q, q, x]\n",
        "    ys = [0, p, p]\n",
        "    plt.plot(xs, ys, ':', color='gray')\n",
        "\n",
        "def draw_arrow_left(p, q, x):\n",
        "    dx = 3\n",
        "    dy = 0.025\n",
        "    xs = [x+dx, x, x+dx]\n",
        "    ys = [p-dy, p, p+dy]\n",
        "    plt.plot(xs, ys, ':', color='gray')\n",
        "\n",
        "def draw_arrow_down(p, q, y):\n",
        "    dx = 1.25\n",
        "    dy = 0.045\n",
        "    xs = [q-dx, q, q+dx]\n",
        "    ys = [y+dy, y, y+dy]\n",
        "    plt.plot(xs, ys, ':', color='gray')"
      ]
    },
    {
      "cell_type": "code",
      "execution_count": 39,
      "metadata": {
        "tags": [],
        "id": "0xHMIOMVJYk3",
        "outputId": "8690bda5-af36-4c91-875e-2c6ffa3b5edf",
        "colab": {
          "base_uri": "https://localhost:8080/",
          "height": 472
        }
      },
      "outputs": [
        {
          "output_type": "display_data",
          "data": {
            "text/plain": [
              "<Figure size 640x480 with 1 Axes>"
            ],
            "image/png": "[encoded data removed]"
          },
          "metadata": {}
        }
      ],
      "source": [
        "cdf_age.plot()\n",
        "\n",
        "x = 17\n",
        "draw_line(p, q, x)\n",
        "draw_arrow_left(p, q, x)\n",
        "\n",
        "plt.xlabel('Age (years)')\n",
        "plt.xlim(x-1, 91)\n",
        "plt.ylabel('CDF')\n",
        "plt.title('Distribution of age');"
      ]
    },
    {
      "cell_type": "markdown",
      "metadata": {
        "id": "MeAd8LxVJYk3"
      },
      "source": [
        "The CDF is an invertible function, which means that if you have a probability, `p`, you can look up the corresponding quantity, `q`.\n",
        "`Cdf` provides a method called `inverse` that computes the inverse of the cumulative distribution function."
      ]
    },
    {
      "cell_type": "code",
      "execution_count": 40,
      "metadata": {
        "id": "NX7KXXW6JYk4",
        "outputId": "53499392-8875-48a0-a844-47152ac8751d",
        "colab": {
          "base_uri": "https://localhost:8080/"
        }
      },
      "outputs": [
        {
          "output_type": "execute_result",
          "data": {
            "text/plain": [
              "array(31.)"
            ]
          },
          "metadata": {},
          "execution_count": 40
        }
      ],
      "source": [
        "p1 = 0.25\n",
        "q1 = cdf_age.inverse(p1)\n",
        "q1"
      ]
    },
    {
      "cell_type": "markdown",
      "metadata": {
        "id": "wdpLILoFJYk4"
      },
      "source": [
        "In this example, we look up the probability `0.25` and the result is `31`.  \n",
        "That means that 25% of the respondents are age 31 or less.  Another way to say the same thing is \"age 31 is the 25th percentile of this distribution\".\n",
        "\n",
        "If we look up probability `0.75`, it returns `59`, so 75% of the respondents are 59 or younger."
      ]
    },
    {
      "cell_type": "code",
      "execution_count": 41,
      "metadata": {
        "id": "nRCbyw9KJYk4",
        "outputId": "29fb498e-d785-4b5c-98da-28e520519403",
        "colab": {
          "base_uri": "https://localhost:8080/"
        }
      },
      "outputs": [
        {
          "output_type": "execute_result",
          "data": {
            "text/plain": [
              "array(59.)"
            ]
          },
          "metadata": {},
          "execution_count": 41
        }
      ],
      "source": [
        "p2 = 0.75\n",
        "q2 = cdf_age.inverse(p2)\n",
        "q2"
      ]
    },
    {
      "cell_type": "markdown",
      "metadata": {
        "id": "fEj4I9ZEJYk4"
      },
      "source": [
        "In the following figure, the arrows show how you could read these values from the CDF."
      ]
    },
    {
      "cell_type": "code",
      "execution_count": 42,
      "metadata": {
        "id": "0z0OnsJAJYk4",
        "outputId": "f519b587-ee49-4065-fa29-786bf7827de4",
        "colab": {
          "base_uri": "https://localhost:8080/",
          "height": 472
        }
      },
      "outputs": [
        {
          "output_type": "display_data",
          "data": {
            "text/plain": [
              "<Figure size 640x480 with 1 Axes>"
            ],
            "image/png": "[encoded data removed]"
          },
          "metadata": {}
        }
      ],
      "source": [
        "cdf_age.plot()\n",
        "\n",
        "x = 17\n",
        "draw_line(p1, q1, x)\n",
        "draw_arrow_down(p1, q1, 0)\n",
        "\n",
        "draw_line(p2, q2, x)\n",
        "draw_arrow_down(p2, q2, 0)\n",
        "\n",
        "plt.xlabel('Age (years)')\n",
        "plt.xlim(x-1, 91)\n",
        "plt.ylabel('CDF')\n",
        "plt.title('Distribution of age');"
      ]
    },
    {
      "cell_type": "markdown",
      "metadata": {
        "id": "UyO4N1W3JYk4"
      },
      "source": [
        "The distance from the 25th to the 75th percentile is called the **interquartile range**, or IQR.  It measures the spread of the distribution, so it is similar to standard deviation or variance.\n",
        "\n",
        "Because it is based on percentiles, it doesn't get thrown off by extreme values or outliers, the way standard deviation does.  So IQR is more **robust** than variance, which means it works well even if there are errors in the data or extreme values."
      ]
    },
    {
      "cell_type": "markdown",
      "metadata": {
        "id": "xNTykyikJYk4"
      },
      "source": [
        "**Exercise:**  Using `cdf_age`, compute the fraction of the respondents in the GSS dataset that are *older* than 65."
      ]
    },
    {
      "cell_type": "code",
      "execution_count": 43,
      "metadata": {
        "id": "H7wuIj0SJYk4",
        "outputId": "8f6ee7ac-a054-48c0-9e97-2da2600cd6ca",
        "colab": {
          "base_uri": "https://localhost:8080/"
        }
      },
      "outputs": [
        {
          "output_type": "execute_result",
          "data": {
            "text/plain": [
              "array(0.83242498)"
            ]
          },
          "metadata": {},
          "execution_count": 43
        }
      ],
      "source": [
        "# Solution goes here\n",
        "cdf_age(65)\n",
        "# 83.2%"
      ]
    },
    {
      "cell_type": "markdown",
      "metadata": {
        "id": "fLDL6y6tJYk4"
      },
      "source": [
        "**Exercise:** The distribution of income in almost every country is long-tailed, which means there are a small number of people with very high incomes.\n",
        "In the GSS dataset, the column `REALINC` represents total household income, converted to 1986 dollars.  We can get a sense of the shape of this distribution by plotting the CDF.\n",
        "\n",
        "Select `REALINC` from the `gss` dataset, make a `Cdf` called `cdf_income`, and plot it.  Remember to label the axes!"
      ]
    },
    {
      "cell_type": "code",
      "execution_count": 44,
      "metadata": {
        "id": "pf8vTJH0JYk4",
        "outputId": "9253213b-7cf0-4d59-88f1-bf8f1d95aaf3",
        "colab": {
          "base_uri": "https://localhost:8080/",
          "height": 466
        }
      },
      "outputs": [
        {
          "output_type": "execute_result",
          "data": {
            "text/plain": [
              "Text(0, 0.5, 'CDF')"
            ]
          },
          "metadata": {},
          "execution_count": 44
        },
        {
          "output_type": "display_data",
          "data": {
            "text/plain": [
              "<Figure size 640x480 with 1 Axes>"
            ],
            "image/png": "[encoded data removed]"
          },
          "metadata": {}
        }
      ],
      "source": [
        "# Solution goes here\n",
        "income = gss['REALINC'].replace(0, np.nan)\n",
        "cdf_income = Cdf.from_seq(income)\n",
        "cdf_income.plot()\n",
        "\n",
        "plt.xlabel('Income (1986 USD)')\n",
        "plt.ylabel('CDF')"
      ]
    },
    {
      "cell_type": "markdown",
      "metadata": {
        "id": "qgGibDx8JYk5"
      },
      "source": [
        "## Comparing Distributions\n",
        "\n",
        "So far we've seen two ways to represent distributions, PMFs and CDFs.  Now we'll use PMFs and CDFs to compare distributions, and we'll see the pros and cons of each.\n",
        "\n",
        "One way to compare distributions is to plot multiple PMFs on the same axes.  For example, suppose we want to compare the distribution of age for male and female respondents.\n",
        "\n",
        "First we'll create a Boolean Series that's true for male respondents."
      ]
    },
    {
      "cell_type": "code",
      "execution_count": 45,
      "metadata": {
        "id": "9dUjFOQDJYk5"
      },
      "outputs": [],
      "source": [
        "male = (gss['SEX'] == 1)"
      ]
    },
    {
      "cell_type": "markdown",
      "metadata": {
        "id": "yAXWVRC5JYk5"
      },
      "source": [
        "And another that's true for female respondents."
      ]
    },
    {
      "cell_type": "code",
      "execution_count": 46,
      "metadata": {
        "id": "JluR2jzAJYk5"
      },
      "outputs": [],
      "source": [
        "female = (gss['SEX'] == 2)"
      ]
    },
    {
      "cell_type": "markdown",
      "metadata": {
        "id": "Xby4MHeCJYk5"
      },
      "source": [
        "Now we can select ages for the male and female respondents."
      ]
    },
    {
      "cell_type": "code",
      "execution_count": 47,
      "metadata": {
        "id": "nP0W4rKRJYk5"
      },
      "outputs": [],
      "source": [
        "male_age = age[male]\n",
        "female_age = age[female]"
      ]
    },
    {
      "cell_type": "markdown",
      "metadata": {
        "id": "cd5LJI0VJYk5"
      },
      "source": [
        "And plot a PMF for each."
      ]
    },
    {
      "cell_type": "code",
      "execution_count": 48,
      "metadata": {
        "id": "w8Kamst8JYk5",
        "outputId": "394c592a-8d8d-4ebc-8820-326f4f19f051",
        "colab": {
          "base_uri": "https://localhost:8080/",
          "height": 472
        }
      },
      "outputs": [
        {
          "output_type": "display_data",
          "data": {
            "text/plain": [
              "<Figure size 640x480 with 1 Axes>"
            ],
            "image/png": "[encoded data removed]"
          },
          "metadata": {}
        }
      ],
      "source": [
        "pmf_male_age = Pmf.from_seq(male_age)\n",
        "pmf_male_age.plot(label='Male')\n",
        "\n",
        "pmf_female_age = Pmf.from_seq(female_age)\n",
        "pmf_female_age.plot(label='Female')\n",
        "\n",
        "plt.xlabel('Age (years)')\n",
        "plt.ylabel('PMF')\n",
        "plt.title('Distribution of age by sex')\n",
        "plt.legend();"
      ]
    },
    {
      "cell_type": "markdown",
      "metadata": {
        "id": "BoJ9YAyCJYk5"
      },
      "source": [
        "A plot like this, which is highly variable, is often described as *noisy*.\n",
        "\n",
        "If we ignore the noise, it looks like the PMF is higher for men between ages 40 and 50,\n",
        "and higher for women between ages 70 and 80.\n",
        "But both of those differences might be due to random variation.\n",
        "\n",
        "Now let's do the same thing with CDFs; everything is the same except we replace `Pmf` with `Cdf`."
      ]
    },
    {
      "cell_type": "code",
      "execution_count": 49,
      "metadata": {
        "id": "UFz5pFVhJYk5",
        "outputId": "5a79148e-95f5-42d1-9c08-48b3cf21a7a7",
        "colab": {
          "base_uri": "https://localhost:8080/",
          "height": 472
        }
      },
      "outputs": [
        {
          "output_type": "display_data",
          "data": {
            "text/plain": [
              "<Figure size 640x480 with 1 Axes>"
            ],
            "image/png": "[encoded data removed]"
          },
          "metadata": {}
        }
      ],
      "source": [
        "cdf_male_age = Cdf.from_seq(male_age)\n",
        "cdf_male_age.plot(label='Male')\n",
        "\n",
        "cdf_female_age = Cdf.from_seq(female_age)\n",
        "cdf_female_age.plot(label='Female')\n",
        "\n",
        "plt.xlabel('Age (years)')\n",
        "plt.ylabel('CDF')\n",
        "plt.title('Distribution of age by sex')\n",
        "plt.legend();"
      ]
    },
    {
      "cell_type": "markdown",
      "metadata": {
        "id": "IKAwDrDoJYk5"
      },
      "source": [
        "In general, CDFs are smoother than PMFs.  Because they smooth out randomness, we can often get a better view of real differences between distributions.\n",
        "In this case, the lines are close together until age 40; after that, the CDF is higher for men than women.\n",
        "So what does that mean?\n",
        "\n",
        "One way to interpret the difference is that the fraction of men below a given age is generally more than the fraction of women below the same age.\n",
        "For example, about 79% of men are 60 or less, compared to 76% of women."
      ]
    },
    {
      "cell_type": "code",
      "execution_count": 50,
      "metadata": {
        "id": "w8Se4G5hJYk5",
        "outputId": "65f0ae86-79e4-40a6-9dad-062b07ce370a",
        "colab": {
          "base_uri": "https://localhost:8080/"
        }
      },
      "outputs": [
        {
          "output_type": "execute_result",
          "data": {
            "text/plain": [
              "(array(0.78599958), array(0.75529908))"
            ]
          },
          "metadata": {},
          "execution_count": 50
        }
      ],
      "source": [
        "cdf_male_age(60), cdf_female_age(60)"
      ]
    },
    {
      "cell_type": "markdown",
      "metadata": {
        "id": "oM5jnpRvJYk5"
      },
      "source": [
        "Going the other way, we could also compare percentiles.\n",
        "For example, the median age woman is older than the median age man, by about one year."
      ]
    },
    {
      "cell_type": "code",
      "execution_count": 51,
      "metadata": {
        "id": "qvVXmgd2JYk5",
        "outputId": "aaf97240-fad5-40c9-db6e-573ef05c0ec6",
        "colab": {
          "base_uri": "https://localhost:8080/"
        }
      },
      "outputs": [
        {
          "output_type": "execute_result",
          "data": {
            "text/plain": [
              "(array(43.), array(44.))"
            ]
          },
          "metadata": {},
          "execution_count": 51
        }
      ],
      "source": [
        "cdf_male_age.inverse(0.5), cdf_female_age.inverse(0.5)"
      ]
    },
    {
      "cell_type": "markdown",
      "metadata": {
        "id": "Ham3W3DYJYk6"
      },
      "source": [
        "**Exercise:** What fraction of men are over 80?  What fraction of women?"
      ]
    },
    {
      "cell_type": "code",
      "execution_count": 55,
      "metadata": {
        "id": "MPvd-jUKJYk6",
        "outputId": "8f07a228-03e3-4b34-af6e-13b46572fc26",
        "colab": {
          "base_uri": "https://localhost:8080/"
        }
      },
      "outputs": [
        {
          "output_type": "execute_result",
          "data": {
            "text/plain": [
              "(np.float64(0.0258566323313012), np.float64(0.03806458772611254))"
            ]
          },
          "metadata": {},
          "execution_count": 55
        }
      ],
      "source": [
        "# Solution goes here\n",
        "1-cdf_male_age(80),1-cdf_female_age(80)\n"
      ]
    },
    {
      "cell_type": "markdown",
      "metadata": {
        "id": "WGsDKL19JYk6"
      },
      "source": [
        "## Comparing Incomes\n",
        "\n",
        "As another example, let's look at household income and compare the distribution before and after 1995 (I chose 1995 because it's roughly the midpoint of the survey).\n",
        "The variable `REALINC` represents household income in 1986 dollars.\n",
        "\n",
        "We'll make a Boolean `Series` to select respondents interviewed before and after 1995."
      ]
    },
    {
      "cell_type": "code",
      "execution_count": 56,
      "metadata": {
        "id": "SME_WYe9JYk6"
      },
      "outputs": [],
      "source": [
        "pre95 = (gss['YEAR'] < 1995)\n",
        "post95 = (gss['YEAR'] >= 1995)"
      ]
    },
    {
      "cell_type": "markdown",
      "metadata": {
        "id": "ivKNE8ejJYk6"
      },
      "source": [
        "Now we can plot the PMFs."
      ]
    },
    {
      "cell_type": "code",
      "execution_count": 57,
      "metadata": {
        "id": "b3eMK4DwJYk6",
        "outputId": "af67b5d6-4887-4d1f-ca0f-c670656e1dc3",
        "colab": {
          "base_uri": "https://localhost:8080/",
          "height": 472
        }
      },
      "outputs": [
        {
          "output_type": "display_data",
          "data": {
            "text/plain": [
              "<Figure size 640x480 with 1 Axes>"
            ],
            "image/png": "[encoded data removed]"
          },
          "metadata": {}
        }
      ],
      "source": [
        "income = gss['REALINC'].replace(0, np.nan)\n",
        "\n",
        "Pmf.from_seq(income[pre95]).plot(label='Before 1995')\n",
        "Pmf.from_seq(income[post95]).plot(label='After 1995')\n",
        "\n",
        "plt.xlabel('Income (1986 USD)')\n",
        "plt.ylabel('PMF')\n",
        "plt.title('Distribution of income')\n",
        "plt.legend();"
      ]
    },
    {
      "cell_type": "markdown",
      "metadata": {
        "id": "Z_4Dnf4cJYk6"
      },
      "source": [
        "There are a lot of unique values in this distribution, and none of them appear very often.  As a result, the PMF is so noisy and we can't really see the shape of the distribution.\n",
        "\n",
        "It's also hard to compare the distributions.\n",
        "It looks like there are more people with high incomes after 1995, but it's hard to tell.  We can get a clearer picture with a CDF."
      ]
    },
    {
      "cell_type": "code",
      "execution_count": 58,
      "metadata": {
        "id": "KM4p0qPzJYk6",
        "outputId": "2e67edbb-0e63-47c5-afa9-8a9083fd8e80",
        "colab": {
          "base_uri": "https://localhost:8080/",
          "height": 472
        }
      },
      "outputs": [
        {
          "output_type": "display_data",
          "data": {
            "text/plain": [
              "<Figure size 640x480 with 1 Axes>"
            ],
            "image/png": "[encoded data removed]"
          },
          "metadata": {}
        }
      ],
      "source": [
        "Cdf.from_seq(income[pre95]).plot(label='Before 1995')\n",
        "Cdf.from_seq(income[post95]).plot(label='After 1995')\n",
        "\n",
        "plt.xlabel('Income (1986 USD)')\n",
        "plt.ylabel('CDF')\n",
        "plt.title('Distribution of income')\n",
        "plt.legend();"
      ]
    },
    {
      "cell_type": "markdown",
      "metadata": {
        "id": "bweAXVfBJYk6"
      },
      "source": [
        "Below $30,000 the CDFs are almost identical; above that, we can see that the post-1995 distribution is shifted to the right.\n",
        "In other words, the fraction of people with high incomes is about the same, but the income of high earners has increased.\n",
        "\n",
        "In general, I recommend CDFs for exploratory analysis.  They give you a clear view of the distribution, without too much noise, and they are good for comparing distributions, especially if you have more than two."
      ]
    },
    {
      "cell_type": "markdown",
      "metadata": {
        "id": "5oRET5knJYk6"
      },
      "source": [
        "**Exercise:** In the previous figure, the dollar amounts are big enough that the labels on the `x` axis are crowded.  Improve the figure by expressing income in 1000s of dollars (and update the `x` label accordingly)."
      ]
    },
    {
      "cell_type": "code",
      "execution_count": 60,
      "metadata": {
        "id": "ZrNf1xsYJYk6",
        "outputId": "4051e926-d7da-4a31-fd9a-36a6b6bb0167",
        "colab": {
          "base_uri": "https://localhost:8080/",
          "height": 472
        }
      },
      "outputs": [
        {
          "output_type": "display_data",
          "data": {
            "text/plain": [
              "<Figure size 640x480 with 1 Axes>"
            ],
            "image/png": "[encoded data removed]"
          },
          "metadata": {}
        }
      ],
      "source": [
        "# Solution goes here\n",
        "INCOME_1000 = income / 1000\n",
        "Cdf.from_seq(INCOME_1000[pre95]).plot(label='Before 1995')\n",
        "Cdf.from_seq(INCOME_1000[post95]).plot(label='After 1995')\n",
        "plt.xlabel('Income (1986, 1000 USD)')\n",
        "plt.ylabel('CDF')\n",
        "plt.title('Distribution of income')\n",
        "plt.legend();"
      ]
    },
    {
      "cell_type": "markdown",
      "metadata": {
        "id": "FzWdIAXoJYk6"
      },
      "source": [
        "**Exercise:** Let's compare incomes for different levels of education in the GSS dataset\n",
        "\n",
        "To do that we'll create Boolean `Series` to identify respondents with different levels of education.\n",
        "\n",
        "* In the U.S, 12 years of education usually means the respondent has completed high school (secondary education).  \n",
        "\n",
        "* A respondent with 14 years of education has probably completed an associate degree (two years of college)\n",
        "\n",
        "* Someone with 16 years has probably completed a bachelor's degree (four years of college or university).\n",
        "\n",
        "Define Boolean `Series` named `high`, `assc`, and `bach` that are true for respondents with\n",
        "\n",
        "* 12 or fewer years of education,\n",
        "\n",
        "* 13, 14, or 15 years, and\n",
        "\n",
        "* 16 or more.\n",
        "\n",
        "Compute and plot the distribution of income for each group.  Remember to label the CDFs, display a legend, and label the axes.\n",
        "Write a few sentences that describe and interpret the results."
      ]
    },
    {
      "cell_type": "code",
      "execution_count": 66,
      "metadata": {
        "id": "11OxQEsaJYk6",
        "outputId": "f5bc95d3-6550-4067-cb1d-589d8b46d1b2",
        "colab": {
          "base_uri": "https://localhost:8080/",
          "height": 472
        }
      },
      "outputs": [
        {
          "output_type": "display_data",
          "data": {
            "text/plain": [
              "<Figure size 640x480 with 1 Axes>"
            ],
            "image/png": "[encoded data removed]"
          },
          "metadata": {}
        }
      ],
      "source": [
        "# Solution goes here'\n",
        "high = (gss['EDUC'] <= 12)\n",
        "assc = (gss['EDUC'] == 13) | (gss['EDUC'] == 14) | (gss['EDUC'] == 15)\n",
        "bach = (gss['EDUC'] >= 16)\n",
        "cdf_educ_high = Cdf.from_seq(INCOME_1000[high])\n",
        "cdf_educ_assc = Cdf.from_seq(INCOME_1000[assc])\n",
        "cdf_educ_bach = Cdf.from_seq(INCOME_1000[bach])\n",
        "cdf_educ_high.plot(label='High School')\n",
        "cdf_educ_assc.plot(label='Associate')\n",
        "cdf_educ_bach.plot(label='Bachelor')\n",
        "plt.xlabel('Income (1986, 1000 USD)')\n",
        "plt.ylabel('CDF')\n",
        "plt.title('Distribution of income')\n",
        "plt.legend();"
      ]
    },
    {
      "cell_type": "code",
      "execution_count": 67,
      "metadata": {
        "id": "Q9aCDbJPJYk6",
        "outputId": "eb74b77c-6e01-4e3d-a34e-50d752d38288",
        "colab": {
          "base_uri": "https://localhost:8080/"
        }
      },
      "outputs": [
        {
          "output_type": "execute_result",
          "data": {
            "text/plain": [
              "(array(17.954), array(25.5825), array(37.895))"
            ]
          },
          "metadata": {},
          "execution_count": 67
        }
      ],
      "source": [
        "# Solution goes here\n",
        "cdf_educ_high.inverse(0.5), cdf_educ_assc.inverse(0.5), cdf_educ_bach.inverse(0.5)\n",
        "#People with higher degrees earn more. The median income of people whose highest degrees are highschool/associate/bachelor degree is 17954/25583/37895 dollars.\n",
        "#most people earning 120000+ has a Bachelor degree"
      ]
    },
    {
      "cell_type": "markdown",
      "metadata": {
        "id": "GXq9zTG8JYk6"
      },
      "source": [
        "## Modeling Distributions\n",
        "\n",
        "Some distributions have names.  For example, you might be familiar with the normal distribution, also called the Gaussian distribution or the bell curve.  And you might have heard of others like the exponential distribution, binomial distribution, or maybe Poisson distribution.\n",
        "\n",
        "These \"distributions with names\" are called **analytic** because they are described by analytic mathematical functions, as contrasted with empirical distributions, which are based on data.\n",
        "\n",
        "It turns out that many things we measure in the world have distributions that are well approximated by analytic distributions, so these distributions are sometimes good models for the real world.  \n",
        "In this context, what I mean by a \"model\" is a simplified description of the world that is accurate enough for its intended purpose.\n",
        "\n",
        "In this section, we'll compute the CDF of a normal distribution and compare it to an empirical distribution of data.\n",
        "But before we get to real data, we'll start with fake data.\n",
        "\n",
        "The following statement uses NumPy's `random` library to generate 1000 values from a normal distribution with mean `0` and standard deviation `1`."
      ]
    },
    {
      "cell_type": "code",
      "execution_count": null,
      "metadata": {
        "tags": [],
        "id": "aaoCsHydJYk6"
      },
      "outputs": [],
      "source": [
        "np.random.seed(17)"
      ]
    },
    {
      "cell_type": "code",
      "execution_count": null,
      "metadata": {
        "id": "fWGWC-_EJYk7"
      },
      "outputs": [],
      "source": [
        "sample = np.random.normal(size=1000)"
      ]
    },
    {
      "cell_type": "markdown",
      "metadata": {
        "id": "KqVx3C2OJYk7"
      },
      "source": [
        "Here's what the empirical distribution of the sample looks like."
      ]
    },
    {
      "cell_type": "code",
      "execution_count": null,
      "metadata": {
        "id": "4MdpmqlBJYk7"
      },
      "outputs": [],
      "source": [
        "cdf_sample = Cdf.from_seq(sample)\n",
        "cdf_sample.plot(label='Random sample')\n",
        "\n",
        "plt.xlabel('x')\n",
        "plt.ylabel('CDF')\n",
        "plt.legend();"
      ]
    },
    {
      "cell_type": "markdown",
      "metadata": {
        "id": "6AOiF1GPJYk7"
      },
      "source": [
        "If we did not know that this sample was drawn from a normal distribution, and we wanted to check, we could compare the CDF of the data to the CDF of an ideal normal distribution, which we can use the SciPy library to compute."
      ]
    },
    {
      "cell_type": "code",
      "execution_count": null,
      "metadata": {
        "id": "-fGm5YNGJYk7"
      },
      "outputs": [],
      "source": [
        "from scipy.stats import norm\n",
        "\n",
        "xs = np.linspace(-3, 3)\n",
        "ys = norm(0, 1).cdf(xs)"
      ]
    },
    {
      "cell_type": "markdown",
      "metadata": {
        "id": "atYIPdXzJYk7"
      },
      "source": [
        "First we import `norm` from `scipy.stats`, which is a collection of functions related to statistics.\n",
        "\n",
        "Then we use `linspace()` to create an array of equally-spaced points from -3 to 3; those are the `x` values where we will evaluate the normal CDF.\n",
        "\n",
        "Next, `norm(0, 1)` creates an object that represents a normal distribution with mean `0` and standard deviation `1`.\n",
        "\n",
        "Finally, `cdf` computes the CDF of the normal distribution, evaluated at each of the `xs`.\n",
        "\n",
        "I'll plot the normal CDF with a gray line and then plot the CDF of the data again."
      ]
    },
    {
      "cell_type": "code",
      "execution_count": null,
      "metadata": {
        "id": "D66vG-gUJYk7"
      },
      "outputs": [],
      "source": [
        "plt.plot(xs, ys, color='gray', label='Normal CDF')\n",
        "cdf_sample.plot(label='Random sample')\n",
        "\n",
        "plt.xlabel('x')\n",
        "plt.ylabel('CDF')\n",
        "plt.legend();"
      ]
    },
    {
      "cell_type": "markdown",
      "metadata": {
        "id": "5Gg-bFbVJYk7"
      },
      "source": [
        "The CDF of the random sample agrees with the normal model.\n",
        "And that's not surprising because the data were actually sampled from a normal distribution.\n",
        "When we collect data in the real world, we do not expect it to fit a normal distribution as well as this.  In the next exercise, we'll try it and see."
      ]
    },
    {
      "cell_type": "markdown",
      "metadata": {
        "id": "k4Exo8TZJYk7"
      },
      "source": [
        "**Exercise:** Is the normal distribution a good model for the distribution of ages in the U.S. population?\n",
        "\n",
        "To answer this question:\n",
        "\n",
        "* Compute the mean and standard deviation of ages in the GSS dataset.\n",
        "\n",
        "* Use `linspace` to create an array of equally spaced values between 18 and 89.\n",
        "\n",
        "* Use `norm` to create a normal distribution with the same mean and standard deviation as the data, then use it to compute the normal CDF for each value in the array.\n",
        "\n",
        "* Plot the normal CDF with a gray line.\n",
        "\n",
        "* Plot the CDF of the ages in the GSS.\n",
        "\n",
        "How well do the plotted CDFs agree?"
      ]
    },
    {
      "cell_type": "code",
      "execution_count": null,
      "metadata": {
        "id": "td1RcLujJYk7"
      },
      "outputs": [],
      "source": [
        "# Solution goes here"
      ]
    },
    {
      "cell_type": "markdown",
      "metadata": {
        "id": "tj6t_UKkJYk7"
      },
      "source": [
        "**Exercise:** In many datasets, the distribution of income is approximately **lognormal**, which means that the logarithms of the incomes fit a normal distribution.  Let's see whether that's true for the GSS data.\n",
        "\n",
        "* Extract `REALINC` from `gss` and compute its logarithm using `np.log10()`.  Hint: Replace the value `0` with `NaN` before computing logarithms.\n",
        "\n",
        "* Compute the mean and standard deviation of the log-transformed incomes.\n",
        "\n",
        "* Use `norm` to make a normal distribution with the same mean and standard deviation as the log-transformed incomes.\n",
        "\n",
        "* Plot the CDF of the normal distribution.\n",
        "\n",
        "* Compute and plot the CDF of the log-transformed incomes.\n",
        "\n",
        "How similar are the CDFs of the log-transformed incomes and the normal distribution?"
      ]
    },
    {
      "cell_type": "code",
      "execution_count": null,
      "metadata": {
        "id": "v6QAEmdxJYk7"
      },
      "outputs": [],
      "source": [
        "# Solution goes here"
      ]
    },
    {
      "cell_type": "code",
      "execution_count": null,
      "metadata": {
        "id": "dpd-RIA9JYk7"
      },
      "outputs": [],
      "source": [
        "# Solution goes here"
      ]
    },
    {
      "cell_type": "markdown",
      "metadata": {
        "id": "WPIvulUVJYk7"
      },
      "source": [
        "## Kernel Density Estimation\n",
        "\n",
        "We have seen two ways to represent distributions, PMFs and CDFs.  Now we'll learn another way: a probability density function, or PDF.\n",
        "The `norm` function, which we used to compute the normal CDF, can also compute the normal PDF:"
      ]
    },
    {
      "cell_type": "code",
      "execution_count": null,
      "metadata": {
        "id": "LbbAxbzNJYk7"
      },
      "outputs": [],
      "source": [
        "xs = np.linspace(-3, 3)\n",
        "ys = norm(0,1).pdf(xs)\n",
        "plt.plot(xs, ys, color='gray', label='Normal PDF')\n",
        "\n",
        "plt.xlabel('x')\n",
        "plt.ylabel('PDF')\n",
        "plt.title('Normal density function')\n",
        "plt.legend();"
      ]
    },
    {
      "cell_type": "markdown",
      "metadata": {
        "id": "0l_5tMYSJYk8"
      },
      "source": [
        "The normal PDF is the classic \"bell curve\".  \n",
        "\n",
        "It is tempting to compare the PMF of the data to the PDF of the normal distribution, but that doesn't work.\n",
        "Let's see what happens if we try:"
      ]
    },
    {
      "cell_type": "code",
      "execution_count": null,
      "metadata": {
        "id": "L4Jq_nMRJYk8"
      },
      "outputs": [],
      "source": [
        "plt.plot(xs, ys, color='gray', label='Normal PDF')\n",
        "\n",
        "pmf_sample = Pmf.from_seq(sample)\n",
        "pmf_sample.plot(label='Random sample')\n",
        "\n",
        "plt.xlabel('x')\n",
        "plt.ylabel('PDF')\n",
        "plt.title('Normal density function')\n",
        "plt.legend();"
      ]
    },
    {
      "cell_type": "markdown",
      "metadata": {
        "id": "D6m0GJ8-JYk8"
      },
      "source": [
        "The PMF of the sample is a flat line across the bottom.  In the random sample, every value is unique, so they all have the same probability, one in 1000.\n",
        "\n",
        "However, we can use the points in the sample to estimate the PDF of the distribution they came from.\n",
        "This process is called **kernel density estimation**, or KDE.  It's a way of getting from a PMF, a probability mass function, to a PDF, a probability density function.\n",
        "\n",
        "To generate a KDE plot, we'll use the Seaborn library, imported as `sns`.\n",
        "Seaborn provides `kdeplot`, which takes the sample, estimates the PDF, and plots it."
      ]
    },
    {
      "cell_type": "code",
      "execution_count": null,
      "metadata": {
        "id": "-z4TxJGnJYk8"
      },
      "outputs": [],
      "source": [
        "import seaborn as sns\n",
        "\n",
        "sns.kdeplot(sample, label='Estimated sample PDF')\n",
        "\n",
        "plt.xlabel('x')\n",
        "plt.ylabel('PDF')\n",
        "plt.title('Normal density function')\n",
        "plt.legend();"
      ]
    },
    {
      "cell_type": "markdown",
      "metadata": {
        "id": "yohRPoOgJYk8"
      },
      "source": [
        "Now we can compare the KDE plot and the normal PDF."
      ]
    },
    {
      "cell_type": "code",
      "execution_count": null,
      "metadata": {
        "id": "LwY7QN-KJYk8"
      },
      "outputs": [],
      "source": [
        "plt.plot(xs, ys, color='gray', label='Normal PDF')\n",
        "sns.kdeplot(sample, label='Estimated sample PDF')\n",
        "\n",
        "plt.xlabel('x')\n",
        "plt.ylabel('PDF')\n",
        "plt.title('Normal density function')\n",
        "plt.legend();"
      ]
    },
    {
      "cell_type": "markdown",
      "metadata": {
        "id": "ICyL06LwJYk8"
      },
      "source": [
        "The KDE plot matches the normal PDF pretty well, although the differences look bigger when we compare PDFs than they did with the CDFs.\n",
        "That means that the PDF is a more sensitive way to look for differences, but often it is too sensitive.  \n",
        "It's hard to tell whether apparent differences mean anything, or if they are just random, as in this case."
      ]
    },
    {
      "cell_type": "markdown",
      "metadata": {
        "id": "4bm8Cu7mJYk8"
      },
      "source": [
        "**Exercise:** In a previous exercise, we asked \"Is the normal distribution a good model for the distribution of ages in the U.S. population?\"  To answer this question, we plotted the CDF of the data and compared it to the CDF of a normal distribution with the same mean and standard deviation.\n",
        "\n",
        "Now we'll compare the estimated density of the data with the normal PDF.\n",
        "\n",
        "* Again, compute the mean and standard deviation of ages in the GSS dataset.\n",
        "\n",
        "* Use `linspace` to create an array of values between 18 and 89.\n",
        "\n",
        "* Use `norm` to create a normal distribution with the same mean and standard deviation as the data, then use it to compute the normal PDF for each value in the array.\n",
        "\n",
        "* Plot the normal PDF with a gray line.\n",
        "\n",
        "* Use `sns.kdeplot` to estimate and plot the density of the ages in the GSS.  \n",
        "\n",
        "Note: Seaborn can't handle NaNs, but you can use `dropna` to drop them before calling `kdeplot`.\n",
        "\n",
        "How well do the PDF and KDE plots agree?"
      ]
    },
    {
      "cell_type": "code",
      "execution_count": null,
      "metadata": {
        "id": "Guh9IgVIJYk8"
      },
      "outputs": [],
      "source": [
        "# Solution goes here"
      ]
    },
    {
      "cell_type": "markdown",
      "metadata": {
        "id": "vpxuVc7bJYk8"
      },
      "source": [
        "**Exercise:** In a previous exercise, we used CDFs to see if the distribution of income fits a lognormal distribution.  We can make the same comparison using a PDF and KDE.\n",
        "\n",
        "* Again, extract `REALINC` from `gss` and compute its logarithm using `np.log10()`.\n",
        "\n",
        "* Compute the mean and standard deviation of the log-transformed incomes.\n",
        "\n",
        "* Use `norm` to make a normal distribution with the same mean and standard deviation as the log-transformed incomes.\n",
        "\n",
        "* Plot the PDF of the normal distribution.\n",
        "\n",
        "* Use `sns.kdeplot()` to estimate and plot the density of the log-transformed incomes."
      ]
    },
    {
      "cell_type": "code",
      "execution_count": null,
      "metadata": {
        "id": "UQN49CS-JYk8"
      },
      "outputs": [],
      "source": [
        "# Solution goes here"
      ]
    },
    {
      "cell_type": "code",
      "execution_count": null,
      "metadata": {
        "id": "Gi2GkLEeJYk8"
      },
      "outputs": [],
      "source": [
        "# Solution goes here"
      ]
    },
    {
      "cell_type": "markdown",
      "metadata": {
        "id": "56iMfUtNJYk8"
      },
      "source": [
        "## Summary\n",
        "\n",
        "In this chapter, we've seen four ways to visualize distributions, PMFs, CDFs, and KDE plots.\n",
        "\n",
        "In general, I use CDFs when I am exploring data.\n",
        "That way, I get the best view of what's going on without getting distracted by noise.\n",
        "\n",
        "Then, if I am presenting results to an audience unfamiliar with CDFs, I might use a PMF if the dataset contains a small number of unique values, or KDE if there are many unique values."
      ]
    },
    {
      "cell_type": "markdown",
      "metadata": {
        "tags": [],
        "id": "gMZkAucWJYk9"
      },
      "source": [
        "*Elements of Data Science*\n",
        "\n",
        "Copyright 2021 [Allen B. Downey](https://allendowney.com)\n",
        "\n",
        "License: [Creative Commons Attribution-NonCommercial-ShareAlike 4.0 International](https://creativecommons.org/licenses/by-nc-sa/4.0/)"
      ]
    },
    {
      "cell_type": "code",
      "execution_count": null,
      "metadata": {
        "id": "1U_pwBBFJYk9"
      },
      "outputs": [],
      "source": []
    }
  ],
  "metadata": {
    "celltoolbar": "Tags",
    "kernelspec": {
      "display_name": "Python 3 (ipykernel)",
      "language": "python",
      "name": "python3"
    },
    "language_info": {
      "codemirror_mode": {
        "name": "ipython",
        "version": 3
      },
      "file_extension": ".py",
      "mimetype": "text/x-python",
      "name": "python",
      "nbconvert_exporter": "python",
      "pygments_lexer": "ipython3",
      "version": "3.8.16"
    },
    "colab": {
      "provenance": []
    }
  },
  "nbformat": 4,
  "nbformat_minor": 0
}